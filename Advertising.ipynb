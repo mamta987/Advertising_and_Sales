{
 "cells": [
  {
   "cell_type": "markdown",
   "id": "92dfb37d",
   "metadata": {},
   "source": [
    "## Reading and Understanding the Data"
   ]
  },
  {
   "cell_type": "code",
   "execution_count": 134,
   "id": "077aecb9",
   "metadata": {},
   "outputs": [],
   "source": [
    "import numpy as np\n",
    "import pandas as pd\n",
    "import matplotlib.pyplot as plt\n",
    "import seaborn as sns\n",
    "\n",
    "import warnings\n",
    "warnings.filterwarnings('ignore')"
   ]
  },
  {
   "cell_type": "code",
   "execution_count": 135,
   "id": "25e5e427",
   "metadata": {},
   "outputs": [],
   "source": [
    "# amount spent on the marketing using TV, Radio and Newspaper "
   ]
  },
  {
   "cell_type": "code",
   "execution_count": 254,
   "id": "74787329",
   "metadata": {},
   "outputs": [
    {
     "data": {
      "text/html": [
       "<div>\n",
       "<style scoped>\n",
       "    .dataframe tbody tr th:only-of-type {\n",
       "        vertical-align: middle;\n",
       "    }\n",
       "\n",
       "    .dataframe tbody tr th {\n",
       "        vertical-align: top;\n",
       "    }\n",
       "\n",
       "    .dataframe thead th {\n",
       "        text-align: right;\n",
       "    }\n",
       "</style>\n",
       "<table border=\"1\" class=\"dataframe\">\n",
       "  <thead>\n",
       "    <tr style=\"text-align: right;\">\n",
       "      <th></th>\n",
       "      <th>TV</th>\n",
       "      <th>Radio</th>\n",
       "      <th>Newspaper</th>\n",
       "      <th>Sales</th>\n",
       "    </tr>\n",
       "  </thead>\n",
       "  <tbody>\n",
       "    <tr>\n",
       "      <th>0</th>\n",
       "      <td>230.1</td>\n",
       "      <td>37.8</td>\n",
       "      <td>69.2</td>\n",
       "      <td>22.1</td>\n",
       "    </tr>\n",
       "    <tr>\n",
       "      <th>1</th>\n",
       "      <td>44.5</td>\n",
       "      <td>39.3</td>\n",
       "      <td>45.1</td>\n",
       "      <td>10.4</td>\n",
       "    </tr>\n",
       "    <tr>\n",
       "      <th>2</th>\n",
       "      <td>17.2</td>\n",
       "      <td>45.9</td>\n",
       "      <td>69.3</td>\n",
       "      <td>12.0</td>\n",
       "    </tr>\n",
       "    <tr>\n",
       "      <th>3</th>\n",
       "      <td>151.5</td>\n",
       "      <td>41.3</td>\n",
       "      <td>58.5</td>\n",
       "      <td>16.5</td>\n",
       "    </tr>\n",
       "    <tr>\n",
       "      <th>4</th>\n",
       "      <td>180.8</td>\n",
       "      <td>10.8</td>\n",
       "      <td>58.4</td>\n",
       "      <td>17.9</td>\n",
       "    </tr>\n",
       "  </tbody>\n",
       "</table>\n",
       "</div>"
      ],
      "text/plain": [
       "      TV  Radio  Newspaper  Sales\n",
       "0  230.1   37.8       69.2   22.1\n",
       "1   44.5   39.3       45.1   10.4\n",
       "2   17.2   45.9       69.3   12.0\n",
       "3  151.5   41.3       58.5   16.5\n",
       "4  180.8   10.8       58.4   17.9"
      ]
     },
     "execution_count": 254,
     "metadata": {},
     "output_type": "execute_result"
    }
   ],
   "source": [
    "advertising = pd.read_csv('advertising.csv')\n",
    "advertising.head()"
   ]
  },
  {
   "cell_type": "code",
   "execution_count": 255,
   "id": "5240ead4",
   "metadata": {},
   "outputs": [
    {
     "data": {
      "text/plain": [
       "(200, 4)"
      ]
     },
     "execution_count": 255,
     "metadata": {},
     "output_type": "execute_result"
    }
   ],
   "source": [
    "advertising.shape"
   ]
  },
  {
   "cell_type": "code",
   "execution_count": 256,
   "id": "71cb7e0b",
   "metadata": {},
   "outputs": [
    {
     "name": "stdout",
     "output_type": "stream",
     "text": [
      "<class 'pandas.core.frame.DataFrame'>\n",
      "RangeIndex: 200 entries, 0 to 199\n",
      "Data columns (total 4 columns):\n",
      " #   Column     Non-Null Count  Dtype  \n",
      "---  ------     --------------  -----  \n",
      " 0   TV         200 non-null    float64\n",
      " 1   Radio      200 non-null    float64\n",
      " 2   Newspaper  200 non-null    float64\n",
      " 3   Sales      200 non-null    float64\n",
      "dtypes: float64(4)\n",
      "memory usage: 6.4 KB\n"
     ]
    }
   ],
   "source": [
    "advertising.info()"
   ]
  },
  {
   "cell_type": "code",
   "execution_count": 257,
   "id": "9c3800e1",
   "metadata": {},
   "outputs": [
    {
     "data": {
      "text/html": [
       "<div>\n",
       "<style scoped>\n",
       "    .dataframe tbody tr th:only-of-type {\n",
       "        vertical-align: middle;\n",
       "    }\n",
       "\n",
       "    .dataframe tbody tr th {\n",
       "        vertical-align: top;\n",
       "    }\n",
       "\n",
       "    .dataframe thead th {\n",
       "        text-align: right;\n",
       "    }\n",
       "</style>\n",
       "<table border=\"1\" class=\"dataframe\">\n",
       "  <thead>\n",
       "    <tr style=\"text-align: right;\">\n",
       "      <th></th>\n",
       "      <th>TV</th>\n",
       "      <th>Radio</th>\n",
       "      <th>Newspaper</th>\n",
       "      <th>Sales</th>\n",
       "    </tr>\n",
       "  </thead>\n",
       "  <tbody>\n",
       "    <tr>\n",
       "      <th>count</th>\n",
       "      <td>200.000000</td>\n",
       "      <td>200.000000</td>\n",
       "      <td>200.000000</td>\n",
       "      <td>200.000000</td>\n",
       "    </tr>\n",
       "    <tr>\n",
       "      <th>mean</th>\n",
       "      <td>147.042500</td>\n",
       "      <td>23.264000</td>\n",
       "      <td>30.554000</td>\n",
       "      <td>15.130500</td>\n",
       "    </tr>\n",
       "    <tr>\n",
       "      <th>std</th>\n",
       "      <td>85.854236</td>\n",
       "      <td>14.846809</td>\n",
       "      <td>21.778621</td>\n",
       "      <td>5.283892</td>\n",
       "    </tr>\n",
       "    <tr>\n",
       "      <th>min</th>\n",
       "      <td>0.700000</td>\n",
       "      <td>0.000000</td>\n",
       "      <td>0.300000</td>\n",
       "      <td>1.600000</td>\n",
       "    </tr>\n",
       "    <tr>\n",
       "      <th>25%</th>\n",
       "      <td>74.375000</td>\n",
       "      <td>9.975000</td>\n",
       "      <td>12.750000</td>\n",
       "      <td>11.000000</td>\n",
       "    </tr>\n",
       "    <tr>\n",
       "      <th>50%</th>\n",
       "      <td>149.750000</td>\n",
       "      <td>22.900000</td>\n",
       "      <td>25.750000</td>\n",
       "      <td>16.000000</td>\n",
       "    </tr>\n",
       "    <tr>\n",
       "      <th>75%</th>\n",
       "      <td>218.825000</td>\n",
       "      <td>36.525000</td>\n",
       "      <td>45.100000</td>\n",
       "      <td>19.050000</td>\n",
       "    </tr>\n",
       "    <tr>\n",
       "      <th>max</th>\n",
       "      <td>296.400000</td>\n",
       "      <td>49.600000</td>\n",
       "      <td>114.000000</td>\n",
       "      <td>27.000000</td>\n",
       "    </tr>\n",
       "  </tbody>\n",
       "</table>\n",
       "</div>"
      ],
      "text/plain": [
       "               TV       Radio   Newspaper       Sales\n",
       "count  200.000000  200.000000  200.000000  200.000000\n",
       "mean   147.042500   23.264000   30.554000   15.130500\n",
       "std     85.854236   14.846809   21.778621    5.283892\n",
       "min      0.700000    0.000000    0.300000    1.600000\n",
       "25%     74.375000    9.975000   12.750000   11.000000\n",
       "50%    149.750000   22.900000   25.750000   16.000000\n",
       "75%    218.825000   36.525000   45.100000   19.050000\n",
       "max    296.400000   49.600000  114.000000   27.000000"
      ]
     },
     "execution_count": 257,
     "metadata": {},
     "output_type": "execute_result"
    }
   ],
   "source": [
    "advertising.describe()"
   ]
  },
  {
   "cell_type": "markdown",
   "id": "cfeb6e7b",
   "metadata": {},
   "source": [
    "## Visualising the Data"
   ]
  },
  {
   "cell_type": "code",
   "execution_count": 258,
   "id": "00a02e0b",
   "metadata": {
    "scrolled": false
   },
   "outputs": [
    {
     "data": {
      "image/png": "[encoded data removed]",
      "text/plain": [
       "<Figure size 576x432 with 1 Axes>"
      ]
     },
     "metadata": {
      "needs_background": "light"
     },
     "output_type": "display_data"
    },
    {
     "data": {
      "image/png": "[encoded data removed]",
      "text/plain": [
       "<Figure size 576x432 with 1 Axes>"
      ]
     },
     "metadata": {
      "needs_background": "light"
     },
     "output_type": "display_data"
    },
    {
     "data": {
      "image/png": "[encoded data removed]",
      "text/plain": [
       "<Figure size 576x432 with 1 Axes>"
      ]
     },
     "metadata": {
      "needs_background": "light"
     },
     "output_type": "display_data"
    },
    {
     "data": {
      "image/png": "[encoded data removed]",
      "text/plain": [
       "<Figure size 576x432 with 1 Axes>"
      ]
     },
     "metadata": {
      "needs_background": "light"
     },
     "output_type": "display_data"
    }
   ],
   "source": [
    "for var in advertising.columns:\n",
    "    plt.figure(figsize=(8,6))\n",
    "    sns.boxplot(advertising[var])\n",
    "    plt.show()"
   ]
  },
  {
   "cell_type": "code",
   "execution_count": 259,
   "id": "20438e71",
   "metadata": {},
   "outputs": [
    {
     "data": {
      "image/png": "[encoded data removed]",
      "text/plain": [
       "<Figure size 864x288 with 3 Axes>"
      ]
     },
     "metadata": {
      "needs_background": "light"
     },
     "output_type": "display_data"
    }
   ],
   "source": [
    "sns.pairplot(advertising, x_vars=['TV', 'Newspaper', 'Radio'], y_vars='Sales',size=4, aspect=1, kind='scatter')\n",
    "plt.show()"
   ]
  },
  {
   "cell_type": "code",
   "execution_count": 260,
   "id": "078c2123",
   "metadata": {},
   "outputs": [
    {
     "data": {
      "text/plain": [
       "<AxesSubplot:>"
      ]
     },
     "execution_count": 260,
     "metadata": {},
     "output_type": "execute_result"
    },
    {
     "data": {
      "image/png": "[encoded data removed]",
      "text/plain": [
       "<Figure size 432x288 with 2 Axes>"
      ]
     },
     "metadata": {
      "needs_background": "light"
     },
     "output_type": "display_data"
    }
   ],
   "source": [
    "sns.heatmap(advertising.corr(), annot = True)"
   ]
  },
  {
   "cell_type": "markdown",
   "id": "0bf40a13",
   "metadata": {},
   "source": [
    "The target variable 'Sales' is highly correlated with the feature TV, then Radio and then Newspaper"
   ]
  },
  {
   "cell_type": "markdown",
   "id": "d6b4cdc1",
   "metadata": {},
   "source": [
    "# Model Building Without scaling the variables "
   ]
  },
  {
   "cell_type": "code",
   "execution_count": 261,
   "id": "5755ea8c",
   "metadata": {},
   "outputs": [],
   "source": [
    "advertising1 = advertising.copy()"
   ]
  },
  {
   "cell_type": "code",
   "execution_count": 262,
   "id": "99881801",
   "metadata": {},
   "outputs": [],
   "source": [
    "X = advertising1[['TV', 'Radio', 'Newspaper']]\n",
    "y = advertising1['Sales']"
   ]
  },
  {
   "cell_type": "code",
   "execution_count": 263,
   "id": "92df4de1",
   "metadata": {},
   "outputs": [],
   "source": [
    "from sklearn.model_selection import train_test_split\n",
    "from sklearn.linear_model import LinearRegression"
   ]
  },
  {
   "cell_type": "markdown",
   "id": "bb62b723",
   "metadata": {},
   "source": [
    "### train test split"
   ]
  },
  {
   "cell_type": "code",
   "execution_count": 264,
   "id": "d6801f0d",
   "metadata": {},
   "outputs": [],
   "source": [
    "X_train, X_test, y_train, y_test = train_test_split(X, y, train_size=0.7, random_state=10)"
   ]
  },
  {
   "cell_type": "code",
   "execution_count": 265,
   "id": "4bff8cb2",
   "metadata": {},
   "outputs": [
    {
     "data": {
      "text/plain": [
       "((140, 3), (60, 3))"
      ]
     },
     "execution_count": 265,
     "metadata": {},
     "output_type": "execute_result"
    }
   ],
   "source": [
    "X_train.shape, X_test.shape"
   ]
  },
  {
   "cell_type": "code",
   "execution_count": 266,
   "id": "2d74963f",
   "metadata": {},
   "outputs": [
    {
     "data": {
      "text/html": [
       "<div>\n",
       "<style scoped>\n",
       "    .dataframe tbody tr th:only-of-type {\n",
       "        vertical-align: middle;\n",
       "    }\n",
       "\n",
       "    .dataframe tbody tr th {\n",
       "        vertical-align: top;\n",
       "    }\n",
       "\n",
       "    .dataframe thead th {\n",
       "        text-align: right;\n",
       "    }\n",
       "</style>\n",
       "<table border=\"1\" class=\"dataframe\">\n",
       "  <thead>\n",
       "    <tr style=\"text-align: right;\">\n",
       "      <th></th>\n",
       "      <th>TV</th>\n",
       "      <th>Radio</th>\n",
       "      <th>Newspaper</th>\n",
       "    </tr>\n",
       "  </thead>\n",
       "  <tbody>\n",
       "    <tr>\n",
       "      <th>119</th>\n",
       "      <td>19.4</td>\n",
       "      <td>16.0</td>\n",
       "      <td>22.3</td>\n",
       "    </tr>\n",
       "    <tr>\n",
       "      <th>110</th>\n",
       "      <td>225.8</td>\n",
       "      <td>8.2</td>\n",
       "      <td>56.5</td>\n",
       "    </tr>\n",
       "    <tr>\n",
       "      <th>95</th>\n",
       "      <td>163.3</td>\n",
       "      <td>31.6</td>\n",
       "      <td>52.9</td>\n",
       "    </tr>\n",
       "    <tr>\n",
       "      <th>167</th>\n",
       "      <td>206.8</td>\n",
       "      <td>5.2</td>\n",
       "      <td>19.4</td>\n",
       "    </tr>\n",
       "    <tr>\n",
       "      <th>193</th>\n",
       "      <td>166.8</td>\n",
       "      <td>42.0</td>\n",
       "      <td>3.6</td>\n",
       "    </tr>\n",
       "  </tbody>\n",
       "</table>\n",
       "</div>"
      ],
      "text/plain": [
       "        TV  Radio  Newspaper\n",
       "119   19.4   16.0       22.3\n",
       "110  225.8    8.2       56.5\n",
       "95   163.3   31.6       52.9\n",
       "167  206.8    5.2       19.4\n",
       "193  166.8   42.0        3.6"
      ]
     },
     "execution_count": 266,
     "metadata": {},
     "output_type": "execute_result"
    }
   ],
   "source": [
    "X_train.head()"
   ]
  },
  {
   "cell_type": "code",
   "execution_count": 291,
   "id": "82738262",
   "metadata": {},
   "outputs": [
    {
     "data": {
      "text/plain": [
       "59     18.4\n",
       "5       7.2\n",
       "20     18.0\n",
       "198    25.5\n",
       "52     22.6\n",
       "Name: Sales, dtype: float64"
      ]
     },
     "execution_count": 291,
     "metadata": {},
     "output_type": "execute_result"
    }
   ],
   "source": [
    "y_test.head()"
   ]
  },
  {
   "cell_type": "markdown",
   "id": "2edec87c",
   "metadata": {},
   "source": [
    "## Using Linear Regression Model"
   ]
  },
  {
   "cell_type": "code",
   "execution_count": 248,
   "id": "459f433c",
   "metadata": {},
   "outputs": [],
   "source": [
    "lr = LinearRegression()\n",
    "lr_model = lr.fit(X_train, y_train)"
   ]
  },
  {
   "cell_type": "code",
   "execution_count": 249,
   "id": "b8b576c8",
   "metadata": {},
   "outputs": [
    {
     "data": {
      "text/plain": [
       "0.9032402609859365"
      ]
     },
     "execution_count": 249,
     "metadata": {},
     "output_type": "execute_result"
    }
   ],
   "source": [
    "lr_model.score(X_test, y_test)"
   ]
  },
  {
   "cell_type": "markdown",
   "id": "9659eb0e",
   "metadata": {},
   "source": [
    "## Using Ordinary Least Square method"
   ]
  },
  {
   "cell_type": "markdown",
   "id": "474deb4c",
   "metadata": {},
   "source": [
    "### Model 1"
   ]
  },
  {
   "cell_type": "code",
   "execution_count": 250,
   "id": "64b895c3",
   "metadata": {},
   "outputs": [],
   "source": [
    "import statsmodels.api as sm"
   ]
  },
  {
   "cell_type": "code",
   "execution_count": 267,
   "id": "c133c25c",
   "metadata": {},
   "outputs": [],
   "source": [
    "X_train_sm = sm.add_constant(X_train)\n",
    "sm_ols = sm.OLS(y_train, X_train_sm)\n",
    "sm_ols_model_1 = sm_ols.fit()"
   ]
  },
  {
   "cell_type": "code",
   "execution_count": 268,
   "id": "e7bfd34c",
   "metadata": {},
   "outputs": [
    {
     "data": {
      "text/html": [
       "<table class=\"simpletable\">\n",
       "<caption>OLS Regression Results</caption>\n",
       "<tr>\n",
       "  <th>Dep. Variable:</th>          <td>Sales</td>      <th>  R-squared:         </th> <td>   0.900</td>\n",
       "</tr>\n",
       "<tr>\n",
       "  <th>Model:</th>                   <td>OLS</td>       <th>  Adj. R-squared:    </th> <td>   0.897</td>\n",
       "</tr>\n",
       "<tr>\n",
       "  <th>Method:</th>             <td>Least Squares</td>  <th>  F-statistic:       </th> <td>   406.4</td>\n",
       "</tr>\n",
       "<tr>\n",
       "  <th>Date:</th>             <td>Fri, 30 Dec 2022</td> <th>  Prob (F-statistic):</th> <td>1.13e-67</td>\n",
       "</tr>\n",
       "<tr>\n",
       "  <th>Time:</th>                 <td>16:41:00</td>     <th>  Log-Likelihood:    </th> <td> -258.26</td>\n",
       "</tr>\n",
       "<tr>\n",
       "  <th>No. Observations:</th>      <td>   140</td>      <th>  AIC:               </th> <td>   524.5</td>\n",
       "</tr>\n",
       "<tr>\n",
       "  <th>Df Residuals:</th>          <td>   136</td>      <th>  BIC:               </th> <td>   536.3</td>\n",
       "</tr>\n",
       "<tr>\n",
       "  <th>Df Model:</th>              <td>     3</td>      <th>                     </th>     <td> </td>   \n",
       "</tr>\n",
       "<tr>\n",
       "  <th>Covariance Type:</th>      <td>nonrobust</td>    <th>                     </th>     <td> </td>   \n",
       "</tr>\n",
       "</table>\n",
       "<table class=\"simpletable\">\n",
       "<tr>\n",
       "      <td></td>         <th>coef</th>     <th>std err</th>      <th>t</th>      <th>P>|t|</th>  <th>[0.025</th>    <th>0.975]</th>  \n",
       "</tr>\n",
       "<tr>\n",
       "  <th>const</th>     <td>    4.9123</td> <td>    0.351</td> <td>   14.010</td> <td> 0.000</td> <td>    4.219</td> <td>    5.606</td>\n",
       "</tr>\n",
       "<tr>\n",
       "  <th>TV</th>        <td>    0.0524</td> <td>    0.002</td> <td>   32.158</td> <td> 0.000</td> <td>    0.049</td> <td>    0.056</td>\n",
       "</tr>\n",
       "<tr>\n",
       "  <th>Radio</th>     <td>    0.1075</td> <td>    0.010</td> <td>   11.221</td> <td> 0.000</td> <td>    0.089</td> <td>    0.126</td>\n",
       "</tr>\n",
       "<tr>\n",
       "  <th>Newspaper</th> <td>    0.0004</td> <td>    0.006</td> <td>    0.068</td> <td> 0.946</td> <td>   -0.012</td> <td>    0.013</td>\n",
       "</tr>\n",
       "</table>\n",
       "<table class=\"simpletable\">\n",
       "<tr>\n",
       "  <th>Omnibus:</th>       <td> 1.084</td> <th>  Durbin-Watson:     </th> <td>   2.227</td>\n",
       "</tr>\n",
       "<tr>\n",
       "  <th>Prob(Omnibus):</th> <td> 0.582</td> <th>  Jarque-Bera (JB):  </th> <td>   0.670</td>\n",
       "</tr>\n",
       "<tr>\n",
       "  <th>Skew:</th>          <td>-0.074</td> <th>  Prob(JB):          </th> <td>   0.715</td>\n",
       "</tr>\n",
       "<tr>\n",
       "  <th>Kurtosis:</th>      <td> 3.305</td> <th>  Cond. No.          </th> <td>    454.</td>\n",
       "</tr>\n",
       "</table><br/><br/>Notes:<br/>[1] Standard Errors assume that the covariance matrix of the errors is correctly specified."
      ],
      "text/plain": [
       "<class 'statsmodels.iolib.summary.Summary'>\n",
       "\"\"\"\n",
       "                            OLS Regression Results                            \n",
       "==============================================================================\n",
       "Dep. Variable:                  Sales   R-squared:                       0.900\n",
       "Model:                            OLS   Adj. R-squared:                  0.897\n",
       "Method:                 Least Squares   F-statistic:                     406.4\n",
       "Date:                Fri, 30 Dec 2022   Prob (F-statistic):           1.13e-67\n",
       "Time:                        16:41:00   Log-Likelihood:                -258.26\n",
       "No. Observations:                 140   AIC:                             524.5\n",
       "Df Residuals:                     136   BIC:                             536.3\n",
       "Df Model:                           3                                         \n",
       "Covariance Type:            nonrobust                                         \n",
       "==============================================================================\n",
       "                 coef    std err          t      P>|t|      [0.025      0.975]\n",
       "------------------------------------------------------------------------------\n",
       "const          4.9123      0.351     14.010      0.000       4.219       5.606\n",
       "TV             0.0524      0.002     32.158      0.000       0.049       0.056\n",
       "Radio          0.1075      0.010     11.221      0.000       0.089       0.126\n",
       "Newspaper      0.0004      0.006      0.068      0.946      -0.012       0.013\n",
       "==============================================================================\n",
       "Omnibus:                        1.084   Durbin-Watson:                   2.227\n",
       "Prob(Omnibus):                  0.582   Jarque-Bera (JB):                0.670\n",
       "Skew:                          -0.074   Prob(JB):                        0.715\n",
       "Kurtosis:                       3.305   Cond. No.                         454.\n",
       "==============================================================================\n",
       "\n",
       "Notes:\n",
       "[1] Standard Errors assume that the covariance matrix of the errors is correctly specified.\n",
       "\"\"\""
      ]
     },
     "execution_count": 268,
     "metadata": {},
     "output_type": "execute_result"
    }
   ],
   "source": [
    "sm_ols_model_1.summary()"
   ]
  },
  {
   "cell_type": "code",
   "execution_count": 269,
   "id": "b37a9b9c",
   "metadata": {},
   "outputs": [
    {
     "data": {
      "text/plain": [
       "const        4.912326\n",
       "TV           0.052393\n",
       "Radio        0.107522\n",
       "Newspaper    0.000434\n",
       "dtype: float64"
      ]
     },
     "execution_count": 269,
     "metadata": {},
     "output_type": "execute_result"
    }
   ],
   "source": [
    "sm_ols_model_1.params"
   ]
  },
  {
   "cell_type": "code",
   "execution_count": 270,
   "id": "5dcf2818",
   "metadata": {},
   "outputs": [],
   "source": [
    "from statsmodels.stats.outliers_influence import variance_inflation_factor"
   ]
  },
  {
   "cell_type": "code",
   "execution_count": 271,
   "id": "0919bf6b",
   "metadata": {},
   "outputs": [
    {
     "data": {
      "text/html": [
       "<div>\n",
       "<style scoped>\n",
       "    .dataframe tbody tr th:only-of-type {\n",
       "        vertical-align: middle;\n",
       "    }\n",
       "\n",
       "    .dataframe tbody tr th {\n",
       "        vertical-align: top;\n",
       "    }\n",
       "\n",
       "    .dataframe thead th {\n",
       "        text-align: right;\n",
       "    }\n",
       "</style>\n",
       "<table border=\"1\" class=\"dataframe\">\n",
       "  <thead>\n",
       "    <tr style=\"text-align: right;\">\n",
       "      <th></th>\n",
       "      <th>Features</th>\n",
       "      <th>VIF</th>\n",
       "    </tr>\n",
       "  </thead>\n",
       "  <tbody>\n",
       "    <tr>\n",
       "      <th>0</th>\n",
       "      <td>const</td>\n",
       "      <td>7.14</td>\n",
       "    </tr>\n",
       "    <tr>\n",
       "      <th>2</th>\n",
       "      <td>Radio</td>\n",
       "      <td>1.11</td>\n",
       "    </tr>\n",
       "    <tr>\n",
       "      <th>3</th>\n",
       "      <td>Newspaper</td>\n",
       "      <td>1.11</td>\n",
       "    </tr>\n",
       "    <tr>\n",
       "      <th>1</th>\n",
       "      <td>TV</td>\n",
       "      <td>1.01</td>\n",
       "    </tr>\n",
       "  </tbody>\n",
       "</table>\n",
       "</div>"
      ],
      "text/plain": [
       "    Features   VIF\n",
       "0      const  7.14\n",
       "2      Radio  1.11\n",
       "3  Newspaper  1.11\n",
       "1         TV  1.01"
      ]
     },
     "execution_count": 271,
     "metadata": {},
     "output_type": "execute_result"
    }
   ],
   "source": [
    "vif = pd.DataFrame()\n",
    "vif['Features'] = X_train_sm.columns\n",
    "vif['VIF'] = [variance_inflation_factor(X_train_sm.values, i) for i in range(X_train_sm.shape[1])]\n",
    "vif['VIF'] = round(vif['VIF'], 2)\n",
    "vif = vif.sort_values(by = 'VIF', ascending = False)\n",
    "vif"
   ]
  },
  {
   "cell_type": "markdown",
   "id": "4c89b7d1",
   "metadata": {},
   "source": [
    "Removing variable Newspaper in the second model as it's p-value is more than 0.05 and it becomes statistically insignificant. It will not give accurate results on a given population. "
   ]
  },
  {
   "cell_type": "markdown",
   "id": "7c65b251",
   "metadata": {},
   "source": [
    "### Model 2"
   ]
  },
  {
   "cell_type": "code",
   "execution_count": 272,
   "id": "d4c7edde",
   "metadata": {},
   "outputs": [],
   "source": [
    "X = X_train.drop('Newspaper', axis = 1)\n",
    "\n",
    "X_train_sm = sm.add_constant(X)\n",
    "sm_ols = sm.OLS(y_train, X_train_sm)\n",
    "sm_ols_model_2 = sm_ols.fit()"
   ]
  },
  {
   "cell_type": "code",
   "execution_count": 273,
   "id": "2e68d89e",
   "metadata": {},
   "outputs": [
    {
     "data": {
      "text/html": [
       "<table class=\"simpletable\">\n",
       "<caption>OLS Regression Results</caption>\n",
       "<tr>\n",
       "  <th>Dep. Variable:</th>          <td>Sales</td>      <th>  R-squared:         </th> <td>   0.900</td>\n",
       "</tr>\n",
       "<tr>\n",
       "  <th>Model:</th>                   <td>OLS</td>       <th>  Adj. R-squared:    </th> <td>   0.898</td>\n",
       "</tr>\n",
       "<tr>\n",
       "  <th>Method:</th>             <td>Least Squares</td>  <th>  F-statistic:       </th> <td>   614.0</td>\n",
       "</tr>\n",
       "<tr>\n",
       "  <th>Date:</th>             <td>Fri, 30 Dec 2022</td> <th>  Prob (F-statistic):</th> <td>4.05e-69</td>\n",
       "</tr>\n",
       "<tr>\n",
       "  <th>Time:</th>                 <td>16:41:25</td>     <th>  Log-Likelihood:    </th> <td> -258.26</td>\n",
       "</tr>\n",
       "<tr>\n",
       "  <th>No. Observations:</th>      <td>   140</td>      <th>  AIC:               </th> <td>   522.5</td>\n",
       "</tr>\n",
       "<tr>\n",
       "  <th>Df Residuals:</th>          <td>   137</td>      <th>  BIC:               </th> <td>   531.3</td>\n",
       "</tr>\n",
       "<tr>\n",
       "  <th>Df Model:</th>              <td>     2</td>      <th>                     </th>     <td> </td>   \n",
       "</tr>\n",
       "<tr>\n",
       "  <th>Covariance Type:</th>      <td>nonrobust</td>    <th>                     </th>     <td> </td>   \n",
       "</tr>\n",
       "</table>\n",
       "<table class=\"simpletable\">\n",
       "<tr>\n",
       "    <td></td>       <th>coef</th>     <th>std err</th>      <th>t</th>      <th>P>|t|</th>  <th>[0.025</th>    <th>0.975]</th>  \n",
       "</tr>\n",
       "<tr>\n",
       "  <th>const</th> <td>    4.9204</td> <td>    0.329</td> <td>   14.977</td> <td> 0.000</td> <td>    4.271</td> <td>    5.570</td>\n",
       "</tr>\n",
       "<tr>\n",
       "  <th>TV</th>    <td>    0.0524</td> <td>    0.002</td> <td>   32.318</td> <td> 0.000</td> <td>    0.049</td> <td>    0.056</td>\n",
       "</tr>\n",
       "<tr>\n",
       "  <th>Radio</th> <td>    0.1077</td> <td>    0.009</td> <td>   11.868</td> <td> 0.000</td> <td>    0.090</td> <td>    0.126</td>\n",
       "</tr>\n",
       "</table>\n",
       "<table class=\"simpletable\">\n",
       "<tr>\n",
       "  <th>Omnibus:</th>       <td> 1.093</td> <th>  Durbin-Watson:     </th> <td>   2.230</td>\n",
       "</tr>\n",
       "<tr>\n",
       "  <th>Prob(Omnibus):</th> <td> 0.579</td> <th>  Jarque-Bera (JB):  </th> <td>   0.678</td>\n",
       "</tr>\n",
       "<tr>\n",
       "  <th>Skew:</th>          <td>-0.077</td> <th>  Prob(JB):          </th> <td>   0.712</td>\n",
       "</tr>\n",
       "<tr>\n",
       "  <th>Kurtosis:</th>      <td> 3.304</td> <th>  Cond. No.          </th> <td>    421.</td>\n",
       "</tr>\n",
       "</table><br/><br/>Notes:<br/>[1] Standard Errors assume that the covariance matrix of the errors is correctly specified."
      ],
      "text/plain": [
       "<class 'statsmodels.iolib.summary.Summary'>\n",
       "\"\"\"\n",
       "                            OLS Regression Results                            \n",
       "==============================================================================\n",
       "Dep. Variable:                  Sales   R-squared:                       0.900\n",
       "Model:                            OLS   Adj. R-squared:                  0.898\n",
       "Method:                 Least Squares   F-statistic:                     614.0\n",
       "Date:                Fri, 30 Dec 2022   Prob (F-statistic):           4.05e-69\n",
       "Time:                        16:41:25   Log-Likelihood:                -258.26\n",
       "No. Observations:                 140   AIC:                             522.5\n",
       "Df Residuals:                     137   BIC:                             531.3\n",
       "Df Model:                           2                                         \n",
       "Covariance Type:            nonrobust                                         \n",
       "==============================================================================\n",
       "                 coef    std err          t      P>|t|      [0.025      0.975]\n",
       "------------------------------------------------------------------------------\n",
       "const          4.9204      0.329     14.977      0.000       4.271       5.570\n",
       "TV             0.0524      0.002     32.318      0.000       0.049       0.056\n",
       "Radio          0.1077      0.009     11.868      0.000       0.090       0.126\n",
       "==============================================================================\n",
       "Omnibus:                        1.093   Durbin-Watson:                   2.230\n",
       "Prob(Omnibus):                  0.579   Jarque-Bera (JB):                0.678\n",
       "Skew:                          -0.077   Prob(JB):                        0.712\n",
       "Kurtosis:                       3.304   Cond. No.                         421.\n",
       "==============================================================================\n",
       "\n",
       "Notes:\n",
       "[1] Standard Errors assume that the covariance matrix of the errors is correctly specified.\n",
       "\"\"\""
      ]
     },
     "execution_count": 273,
     "metadata": {},
     "output_type": "execute_result"
    }
   ],
   "source": [
    "sm_ols_model_2.summary()"
   ]
  },
  {
   "cell_type": "code",
   "execution_count": 274,
   "id": "dda80f0a",
   "metadata": {},
   "outputs": [
    {
     "data": {
      "text/html": [
       "<div>\n",
       "<style scoped>\n",
       "    .dataframe tbody tr th:only-of-type {\n",
       "        vertical-align: middle;\n",
       "    }\n",
       "\n",
       "    .dataframe tbody tr th {\n",
       "        vertical-align: top;\n",
       "    }\n",
       "\n",
       "    .dataframe thead th {\n",
       "        text-align: right;\n",
       "    }\n",
       "</style>\n",
       "<table border=\"1\" class=\"dataframe\">\n",
       "  <thead>\n",
       "    <tr style=\"text-align: right;\">\n",
       "      <th></th>\n",
       "      <th>Features</th>\n",
       "      <th>VIF</th>\n",
       "    </tr>\n",
       "  </thead>\n",
       "  <tbody>\n",
       "    <tr>\n",
       "      <th>0</th>\n",
       "      <td>const</td>\n",
       "      <td>6.31</td>\n",
       "    </tr>\n",
       "    <tr>\n",
       "      <th>1</th>\n",
       "      <td>TV</td>\n",
       "      <td>1.00</td>\n",
       "    </tr>\n",
       "    <tr>\n",
       "      <th>2</th>\n",
       "      <td>Radio</td>\n",
       "      <td>1.00</td>\n",
       "    </tr>\n",
       "  </tbody>\n",
       "</table>\n",
       "</div>"
      ],
      "text/plain": [
       "  Features   VIF\n",
       "0    const  6.31\n",
       "1       TV  1.00\n",
       "2    Radio  1.00"
      ]
     },
     "execution_count": 274,
     "metadata": {},
     "output_type": "execute_result"
    }
   ],
   "source": [
    "vif = pd.DataFrame()\n",
    "vif['Features'] = X_train_sm.columns\n",
    "vif['VIF'] = [variance_inflation_factor(X_train_sm.values, i) for i in range(X_train_sm.shape[1])]\n",
    "vif['VIF'] = round(vif['VIF'], 2)\n",
    "vif = vif.sort_values(by = 'VIF', ascending = False)\n",
    "vif"
   ]
  },
  {
   "cell_type": "code",
   "execution_count": 276,
   "id": "a29c4f2c",
   "metadata": {},
   "outputs": [
    {
     "data": {
      "text/plain": [
       "const    4.920382\n",
       "TV       0.052398\n",
       "Radio    0.107723\n",
       "dtype: float64"
      ]
     },
     "execution_count": 276,
     "metadata": {},
     "output_type": "execute_result"
    }
   ],
   "source": [
    "sm_ols_model_2.params"
   ]
  },
  {
   "cell_type": "code",
   "execution_count": 277,
   "id": "4d749aba",
   "metadata": {},
   "outputs": [],
   "source": [
    "y_train_pred = sm_ols_model_2.predict(X_train_sm)"
   ]
  },
  {
   "cell_type": "markdown",
   "id": "2b3d63ad",
   "metadata": {},
   "source": [
    "## Residual Analysis "
   ]
  },
  {
   "cell_type": "code",
   "execution_count": 278,
   "id": "d39905a4",
   "metadata": {},
   "outputs": [],
   "source": [
    "res = y2_train - y2_train_pred"
   ]
  },
  {
   "cell_type": "code",
   "execution_count": 279,
   "id": "b7ad5fde",
   "metadata": {},
   "outputs": [
    {
     "data": {
      "image/png": "[encoded data removed]",
      "text/plain": [
       "<Figure size 720x576 with 1 Axes>"
      ]
     },
     "metadata": {
      "needs_background": "light"
     },
     "output_type": "display_data"
    }
   ],
   "source": [
    "fig = plt.figure(figsize=(10,8))\n",
    "sns.distplot(res)\n",
    "plt.xlabel('Residual', fontsize = 15)\n",
    "fig.suptitle('Error terms', fontsize = 15)\n",
    "plt.show()"
   ]
  },
  {
   "cell_type": "markdown",
   "id": "e7bdb91c",
   "metadata": {},
   "source": [
    "The error terms follow a normal distribution with a mean zero, which validates are assumptions."
   ]
  },
  {
   "cell_type": "markdown",
   "id": "dcdc3c2c",
   "metadata": {},
   "source": [
    "## Predictions on the test set"
   ]
  },
  {
   "cell_type": "code",
   "execution_count": 180,
   "id": "e3b32968",
   "metadata": {},
   "outputs": [
    {
     "data": {
      "text/html": [
       "<div>\n",
       "<style scoped>\n",
       "    .dataframe tbody tr th:only-of-type {\n",
       "        vertical-align: middle;\n",
       "    }\n",
       "\n",
       "    .dataframe tbody tr th {\n",
       "        vertical-align: top;\n",
       "    }\n",
       "\n",
       "    .dataframe thead th {\n",
       "        text-align: right;\n",
       "    }\n",
       "</style>\n",
       "<table border=\"1\" class=\"dataframe\">\n",
       "  <thead>\n",
       "    <tr style=\"text-align: right;\">\n",
       "      <th></th>\n",
       "      <th>TV</th>\n",
       "      <th>Radio</th>\n",
       "      <th>Newspaper</th>\n",
       "    </tr>\n",
       "  </thead>\n",
       "  <tbody>\n",
       "    <tr>\n",
       "      <th>59</th>\n",
       "      <td>210.7</td>\n",
       "      <td>29.5</td>\n",
       "      <td>9.3</td>\n",
       "    </tr>\n",
       "    <tr>\n",
       "      <th>5</th>\n",
       "      <td>8.7</td>\n",
       "      <td>48.9</td>\n",
       "      <td>75.0</td>\n",
       "    </tr>\n",
       "    <tr>\n",
       "      <th>20</th>\n",
       "      <td>218.4</td>\n",
       "      <td>27.7</td>\n",
       "      <td>53.4</td>\n",
       "    </tr>\n",
       "    <tr>\n",
       "      <th>198</th>\n",
       "      <td>283.6</td>\n",
       "      <td>42.0</td>\n",
       "      <td>66.2</td>\n",
       "    </tr>\n",
       "    <tr>\n",
       "      <th>52</th>\n",
       "      <td>216.4</td>\n",
       "      <td>41.7</td>\n",
       "      <td>39.6</td>\n",
       "    </tr>\n",
       "  </tbody>\n",
       "</table>\n",
       "</div>"
      ],
      "text/plain": [
       "        TV  Radio  Newspaper\n",
       "59   210.7   29.5        9.3\n",
       "5      8.7   48.9       75.0\n",
       "20   218.4   27.7       53.4\n",
       "198  283.6   42.0       66.2\n",
       "52   216.4   41.7       39.6"
      ]
     },
     "execution_count": 180,
     "metadata": {},
     "output_type": "execute_result"
    }
   ],
   "source": [
    "X_test.head()"
   ]
  },
  {
   "cell_type": "code",
   "execution_count": 181,
   "id": "319fe0e6",
   "metadata": {},
   "outputs": [],
   "source": [
    "X_test_new = X_test[['TV', 'Radio']]"
   ]
  },
  {
   "cell_type": "code",
   "execution_count": 182,
   "id": "81c0a738",
   "metadata": {},
   "outputs": [],
   "source": [
    "X_test_new_sm = sm.add_constant(X_test_new)\n",
    "y_test_pred = sm_lr_model_2.predict(X_test_new_sm)"
   ]
  },
  {
   "cell_type": "code",
   "execution_count": 183,
   "id": "d80481a5",
   "metadata": {},
   "outputs": [],
   "source": [
    "from sklearn.metrics import r2_score\n",
    "from sklearn.metrics import mean_squared_error"
   ]
  },
  {
   "cell_type": "code",
   "execution_count": 184,
   "id": "dc397a92",
   "metadata": {},
   "outputs": [
    {
     "data": {
      "text/plain": [
       "0.9032446860354868"
      ]
     },
     "execution_count": 184,
     "metadata": {},
     "output_type": "execute_result"
    }
   ],
   "source": [
    "r2_score(y_test, y_test_pred)"
   ]
  },
  {
   "cell_type": "code",
   "execution_count": 186,
   "id": "3a113ec5",
   "metadata": {},
   "outputs": [
    {
     "data": {
      "text/plain": [
       "0.8998451824240394"
      ]
     },
     "execution_count": 186,
     "metadata": {},
     "output_type": "execute_result"
    }
   ],
   "source": [
    "adj_r2 = 1-(1-r2)*(60-1)/(60-2-1)\n",
    "adj_r2"
   ]
  },
  {
   "cell_type": "code",
   "execution_count": 280,
   "id": "13f7583c",
   "metadata": {},
   "outputs": [
    {
     "data": {
      "text/plain": [
       "1.530784320384843"
      ]
     },
     "execution_count": 280,
     "metadata": {},
     "output_type": "execute_result"
    }
   ],
   "source": [
    "np.sqrt(mean_squared_error(y_train, y_train_pred))"
   ]
  },
  {
   "cell_type": "code",
   "execution_count": 185,
   "id": "e4d85953",
   "metadata": {},
   "outputs": [
    {
     "data": {
      "text/plain": [
       "1.911796849352248"
      ]
     },
     "execution_count": 185,
     "metadata": {},
     "output_type": "execute_result"
    }
   ],
   "source": [
    "np.sqrt(mean_squared_error(y_test, y_test_pred))"
   ]
  },
  {
   "cell_type": "markdown",
   "id": "ddf33114",
   "metadata": {},
   "source": [
    "- TV and Radio are statistically significant variables\n",
    "- Equation of the best fit line, \n",
    "   **Sales = (0.052398 * TV) + (0.107723 * Radio) + 4.920382**"
   ]
  },
  {
   "cell_type": "code",
   "execution_count": 283,
   "id": "8cfd822d",
   "metadata": {},
   "outputs": [],
   "source": [
    "results = pd.DataFrame({\"Model Performance Metrics\":[\"R-Squared\",\"Adjusted R-Squared\",\"RMSE\"],\n",
    "                         \"Train Set\":[0.900,0.898,1.5307],\n",
    "                         \"Test Set\":[0.903,0.899,1.9117]})"
   ]
  },
  {
   "cell_type": "code",
   "execution_count": 284,
   "id": "039e61c2",
   "metadata": {},
   "outputs": [
    {
     "data": {
      "text/html": [
       "<div>\n",
       "<style scoped>\n",
       "    .dataframe tbody tr th:only-of-type {\n",
       "        vertical-align: middle;\n",
       "    }\n",
       "\n",
       "    .dataframe tbody tr th {\n",
       "        vertical-align: top;\n",
       "    }\n",
       "\n",
       "    .dataframe thead th {\n",
       "        text-align: right;\n",
       "    }\n",
       "</style>\n",
       "<table border=\"1\" class=\"dataframe\">\n",
       "  <thead>\n",
       "    <tr style=\"text-align: right;\">\n",
       "      <th></th>\n",
       "      <th>Model Performance Metrics</th>\n",
       "      <th>Train Set</th>\n",
       "      <th>Test Set</th>\n",
       "    </tr>\n",
       "  </thead>\n",
       "  <tbody>\n",
       "    <tr>\n",
       "      <th>0</th>\n",
       "      <td>R-Squared</td>\n",
       "      <td>0.9000</td>\n",
       "      <td>0.9030</td>\n",
       "    </tr>\n",
       "    <tr>\n",
       "      <th>1</th>\n",
       "      <td>Adjusted R-Squared</td>\n",
       "      <td>0.8980</td>\n",
       "      <td>0.8990</td>\n",
       "    </tr>\n",
       "    <tr>\n",
       "      <th>2</th>\n",
       "      <td>RMSE</td>\n",
       "      <td>1.5307</td>\n",
       "      <td>1.9117</td>\n",
       "    </tr>\n",
       "  </tbody>\n",
       "</table>\n",
       "</div>"
      ],
      "text/plain": [
       "  Model Performance Metrics  Train Set  Test Set\n",
       "0                 R-Squared     0.9000    0.9030\n",
       "1        Adjusted R-Squared     0.8980    0.8990\n",
       "2                      RMSE     1.5307    1.9117"
      ]
     },
     "execution_count": 284,
     "metadata": {},
     "output_type": "execute_result"
    }
   ],
   "source": [
    "results"
   ]
  },
  {
   "cell_type": "markdown",
   "id": "16241c94",
   "metadata": {},
   "source": [
    "# Model Building After Scaling the variables "
   ]
  },
  {
   "cell_type": "code",
   "execution_count": 193,
   "id": "4a586935",
   "metadata": {},
   "outputs": [],
   "source": [
    "advertising2 = advertising.copy()"
   ]
  },
  {
   "cell_type": "code",
   "execution_count": 194,
   "id": "b788a804",
   "metadata": {},
   "outputs": [],
   "source": [
    "from sklearn.preprocessing import MinMaxScaler\n",
    "from sklearn.model_selection import train_test_split"
   ]
  },
  {
   "cell_type": "code",
   "execution_count": 195,
   "id": "db06c4d2",
   "metadata": {},
   "outputs": [],
   "source": [
    "advertising2_train, advertising2_test = train_test_split(advertising2, train_size=0.7, random_state=10)"
   ]
  },
  {
   "cell_type": "code",
   "execution_count": 196,
   "id": "8f6b6436",
   "metadata": {},
   "outputs": [],
   "source": [
    "num_var = ['TV', 'Radio', 'Newspaper', 'Sales']"
   ]
  },
  {
   "cell_type": "code",
   "execution_count": 197,
   "id": "e0ba9d18",
   "metadata": {},
   "outputs": [],
   "source": [
    "scaler = MinMaxScaler()\n",
    "advertising2_train[num_var] = scaler.fit_transform(advertising2_train[num_var])"
   ]
  },
  {
   "cell_type": "code",
   "execution_count": 198,
   "id": "9da98779",
   "metadata": {},
   "outputs": [
    {
     "data": {
      "text/html": [
       "<div>\n",
       "<style scoped>\n",
       "    .dataframe tbody tr th:only-of-type {\n",
       "        vertical-align: middle;\n",
       "    }\n",
       "\n",
       "    .dataframe tbody tr th {\n",
       "        vertical-align: top;\n",
       "    }\n",
       "\n",
       "    .dataframe thead th {\n",
       "        text-align: right;\n",
       "    }\n",
       "</style>\n",
       "<table border=\"1\" class=\"dataframe\">\n",
       "  <thead>\n",
       "    <tr style=\"text-align: right;\">\n",
       "      <th></th>\n",
       "      <th>TV</th>\n",
       "      <th>Radio</th>\n",
       "      <th>Newspaper</th>\n",
       "      <th>Sales</th>\n",
       "    </tr>\n",
       "  </thead>\n",
       "  <tbody>\n",
       "    <tr>\n",
       "      <th>119</th>\n",
       "      <td>0.052850</td>\n",
       "      <td>0.319756</td>\n",
       "      <td>0.193492</td>\n",
       "      <td>0.147826</td>\n",
       "    </tr>\n",
       "    <tr>\n",
       "      <th>110</th>\n",
       "      <td>0.765803</td>\n",
       "      <td>0.160896</td>\n",
       "      <td>0.494283</td>\n",
       "      <td>0.660870</td>\n",
       "    </tr>\n",
       "    <tr>\n",
       "      <th>95</th>\n",
       "      <td>0.549914</td>\n",
       "      <td>0.637475</td>\n",
       "      <td>0.462621</td>\n",
       "      <td>0.595652</td>\n",
       "    </tr>\n",
       "    <tr>\n",
       "      <th>167</th>\n",
       "      <td>0.700173</td>\n",
       "      <td>0.099796</td>\n",
       "      <td>0.167986</td>\n",
       "      <td>0.608696</td>\n",
       "    </tr>\n",
       "    <tr>\n",
       "      <th>193</th>\n",
       "      <td>0.562003</td>\n",
       "      <td>0.849287</td>\n",
       "      <td>0.029024</td>\n",
       "      <td>0.713043</td>\n",
       "    </tr>\n",
       "  </tbody>\n",
       "</table>\n",
       "</div>"
      ],
      "text/plain": [
       "           TV     Radio  Newspaper     Sales\n",
       "119  0.052850  0.319756   0.193492  0.147826\n",
       "110  0.765803  0.160896   0.494283  0.660870\n",
       "95   0.549914  0.637475   0.462621  0.595652\n",
       "167  0.700173  0.099796   0.167986  0.608696\n",
       "193  0.562003  0.849287   0.029024  0.713043"
      ]
     },
     "execution_count": 198,
     "metadata": {},
     "output_type": "execute_result"
    }
   ],
   "source": [
    "advertising2_train.head()"
   ]
  },
  {
   "cell_type": "code",
   "execution_count": 199,
   "id": "cb7ce865",
   "metadata": {},
   "outputs": [],
   "source": [
    "X2_train = advertising2_train[['TV', 'Radio', 'Newspaper']]\n",
    "y2_train = advertising2_train['Sales']"
   ]
  },
  {
   "cell_type": "code",
   "execution_count": 200,
   "id": "03711417",
   "metadata": {},
   "outputs": [],
   "source": [
    "advertising2_test[num_var] = scaler.transform(advertising2_test[num_var])"
   ]
  },
  {
   "cell_type": "code",
   "execution_count": 201,
   "id": "60d1183b",
   "metadata": {},
   "outputs": [],
   "source": [
    "X2_test = advertising2_test[['TV', 'Radio', 'Newspaper']]\n",
    "y2_test = advertising2_test['Sales']"
   ]
  },
  {
   "cell_type": "markdown",
   "id": "2063fb93",
   "metadata": {},
   "source": [
    "## Using Linear Regression method"
   ]
  },
  {
   "cell_type": "code",
   "execution_count": 202,
   "id": "2d0fae69",
   "metadata": {},
   "outputs": [],
   "source": [
    "lr = LinearRegression()\n",
    "lr_model = lr.fit(X2_train, y2_train)"
   ]
  },
  {
   "cell_type": "code",
   "execution_count": 203,
   "id": "15d449a1",
   "metadata": {},
   "outputs": [
    {
     "data": {
      "text/plain": [
       "0.9032402609859363"
      ]
     },
     "execution_count": 203,
     "metadata": {},
     "output_type": "execute_result"
    }
   ],
   "source": [
    "lr_model.score(X2_test, y2_test)"
   ]
  },
  {
   "cell_type": "markdown",
   "id": "ef030dd6",
   "metadata": {},
   "source": [
    "## Using Ordinary Least Square method"
   ]
  },
  {
   "cell_type": "code",
   "execution_count": 204,
   "id": "cd8b0c6f",
   "metadata": {},
   "outputs": [],
   "source": [
    "X2_train_sm = sm.add_constant(X2_train)\n",
    "\n",
    "sm_lr = sm.OLS(y2_train, X2_train_sm)\n",
    "sm_lr_model = sm_lr.fit()"
   ]
  },
  {
   "cell_type": "code",
   "execution_count": 205,
   "id": "2b364c05",
   "metadata": {},
   "outputs": [
    {
     "data": {
      "text/html": [
       "<table class=\"simpletable\">\n",
       "<caption>OLS Regression Results</caption>\n",
       "<tr>\n",
       "  <th>Dep. Variable:</th>          <td>Sales</td>      <th>  R-squared:         </th> <td>   0.900</td>\n",
       "</tr>\n",
       "<tr>\n",
       "  <th>Model:</th>                   <td>OLS</td>       <th>  Adj. R-squared:    </th> <td>   0.897</td>\n",
       "</tr>\n",
       "<tr>\n",
       "  <th>Method:</th>             <td>Least Squares</td>  <th>  F-statistic:       </th> <td>   406.4</td>\n",
       "</tr>\n",
       "<tr>\n",
       "  <th>Date:</th>             <td>Fri, 30 Dec 2022</td> <th>  Prob (F-statistic):</th> <td>1.13e-67</td>\n",
       "</tr>\n",
       "<tr>\n",
       "  <th>Time:</th>                 <td>16:30:21</td>     <th>  Log-Likelihood:    </th> <td>  180.71</td>\n",
       "</tr>\n",
       "<tr>\n",
       "  <th>No. Observations:</th>      <td>   140</td>      <th>  AIC:               </th> <td>  -353.4</td>\n",
       "</tr>\n",
       "<tr>\n",
       "  <th>Df Residuals:</th>          <td>   136</td>      <th>  BIC:               </th> <td>  -341.7</td>\n",
       "</tr>\n",
       "<tr>\n",
       "  <th>Df Model:</th>              <td>     3</td>      <th>                     </th>     <td> </td>   \n",
       "</tr>\n",
       "<tr>\n",
       "  <th>Covariance Type:</th>      <td>nonrobust</td>    <th>                     </th>     <td> </td>   \n",
       "</tr>\n",
       "</table>\n",
       "<table class=\"simpletable\">\n",
       "<tr>\n",
       "      <td></td>         <th>coef</th>     <th>std err</th>      <th>t</th>      <th>P>|t|</th>  <th>[0.025</th>    <th>0.975]</th>  \n",
       "</tr>\n",
       "<tr>\n",
       "  <th>const</th>     <td>    0.0852</td> <td>    0.015</td> <td>    5.686</td> <td> 0.000</td> <td>    0.056</td> <td>    0.115</td>\n",
       "</tr>\n",
       "<tr>\n",
       "  <th>TV</th>        <td>    0.6595</td> <td>    0.021</td> <td>   32.158</td> <td> 0.000</td> <td>    0.619</td> <td>    0.700</td>\n",
       "</tr>\n",
       "<tr>\n",
       "  <th>Radio</th>     <td>    0.2295</td> <td>    0.020</td> <td>   11.221</td> <td> 0.000</td> <td>    0.189</td> <td>    0.270</td>\n",
       "</tr>\n",
       "<tr>\n",
       "  <th>Newspaper</th> <td>    0.0021</td> <td>    0.032</td> <td>    0.068</td> <td> 0.946</td> <td>   -0.061</td> <td>    0.065</td>\n",
       "</tr>\n",
       "</table>\n",
       "<table class=\"simpletable\">\n",
       "<tr>\n",
       "  <th>Omnibus:</th>       <td> 1.084</td> <th>  Durbin-Watson:     </th> <td>   2.227</td>\n",
       "</tr>\n",
       "<tr>\n",
       "  <th>Prob(Omnibus):</th> <td> 0.582</td> <th>  Jarque-Bera (JB):  </th> <td>   0.670</td>\n",
       "</tr>\n",
       "<tr>\n",
       "  <th>Skew:</th>          <td>-0.074</td> <th>  Prob(JB):          </th> <td>   0.715</td>\n",
       "</tr>\n",
       "<tr>\n",
       "  <th>Kurtosis:</th>      <td> 3.305</td> <th>  Cond. No.          </th> <td>    7.16</td>\n",
       "</tr>\n",
       "</table><br/><br/>Notes:<br/>[1] Standard Errors assume that the covariance matrix of the errors is correctly specified."
      ],
      "text/plain": [
       "<class 'statsmodels.iolib.summary.Summary'>\n",
       "\"\"\"\n",
       "                            OLS Regression Results                            \n",
       "==============================================================================\n",
       "Dep. Variable:                  Sales   R-squared:                       0.900\n",
       "Model:                            OLS   Adj. R-squared:                  0.897\n",
       "Method:                 Least Squares   F-statistic:                     406.4\n",
       "Date:                Fri, 30 Dec 2022   Prob (F-statistic):           1.13e-67\n",
       "Time:                        16:30:21   Log-Likelihood:                 180.71\n",
       "No. Observations:                 140   AIC:                            -353.4\n",
       "Df Residuals:                     136   BIC:                            -341.7\n",
       "Df Model:                           3                                         \n",
       "Covariance Type:            nonrobust                                         \n",
       "==============================================================================\n",
       "                 coef    std err          t      P>|t|      [0.025      0.975]\n",
       "------------------------------------------------------------------------------\n",
       "const          0.0852      0.015      5.686      0.000       0.056       0.115\n",
       "TV             0.6595      0.021     32.158      0.000       0.619       0.700\n",
       "Radio          0.2295      0.020     11.221      0.000       0.189       0.270\n",
       "Newspaper      0.0021      0.032      0.068      0.946      -0.061       0.065\n",
       "==============================================================================\n",
       "Omnibus:                        1.084   Durbin-Watson:                   2.227\n",
       "Prob(Omnibus):                  0.582   Jarque-Bera (JB):                0.670\n",
       "Skew:                          -0.074   Prob(JB):                        0.715\n",
       "Kurtosis:                       3.305   Cond. No.                         7.16\n",
       "==============================================================================\n",
       "\n",
       "Notes:\n",
       "[1] Standard Errors assume that the covariance matrix of the errors is correctly specified.\n",
       "\"\"\""
      ]
     },
     "execution_count": 205,
     "metadata": {},
     "output_type": "execute_result"
    }
   ],
   "source": [
    "sm_lr_model.summary()"
   ]
  },
  {
   "cell_type": "code",
   "execution_count": 206,
   "id": "2f6fffd9",
   "metadata": {},
   "outputs": [
    {
     "data": {
      "text/html": [
       "<div>\n",
       "<style scoped>\n",
       "    .dataframe tbody tr th:only-of-type {\n",
       "        vertical-align: middle;\n",
       "    }\n",
       "\n",
       "    .dataframe tbody tr th {\n",
       "        vertical-align: top;\n",
       "    }\n",
       "\n",
       "    .dataframe thead th {\n",
       "        text-align: right;\n",
       "    }\n",
       "</style>\n",
       "<table border=\"1\" class=\"dataframe\">\n",
       "  <thead>\n",
       "    <tr style=\"text-align: right;\">\n",
       "      <th></th>\n",
       "      <th>Features</th>\n",
       "      <th>VIF</th>\n",
       "    </tr>\n",
       "  </thead>\n",
       "  <tbody>\n",
       "    <tr>\n",
       "      <th>0</th>\n",
       "      <td>const</td>\n",
       "      <td>6.31</td>\n",
       "    </tr>\n",
       "    <tr>\n",
       "      <th>1</th>\n",
       "      <td>TV</td>\n",
       "      <td>1.00</td>\n",
       "    </tr>\n",
       "    <tr>\n",
       "      <th>2</th>\n",
       "      <td>Radio</td>\n",
       "      <td>1.00</td>\n",
       "    </tr>\n",
       "  </tbody>\n",
       "</table>\n",
       "</div>"
      ],
      "text/plain": [
       "  Features   VIF\n",
       "0    const  6.31\n",
       "1       TV  1.00\n",
       "2    Radio  1.00"
      ]
     },
     "execution_count": 206,
     "metadata": {},
     "output_type": "execute_result"
    }
   ],
   "source": [
    "vif = pd.DataFrame()\n",
    "vif['Features'] = X_train_sm.columns\n",
    "vif['VIF'] = [variance_inflation_factor(X_train_sm.values, i) for i in range(X_train_sm.shape[1])]\n",
    "vif['VIF'] = round(vif['VIF'], 2)\n",
    "vif = vif.sort_values(by = 'VIF', ascending = False)\n",
    "vif"
   ]
  },
  {
   "cell_type": "code",
   "execution_count": 207,
   "id": "532f4088",
   "metadata": {},
   "outputs": [
    {
     "data": {
      "text/html": [
       "<table class=\"simpletable\">\n",
       "<caption>OLS Regression Results</caption>\n",
       "<tr>\n",
       "  <th>Dep. Variable:</th>          <td>Sales</td>      <th>  R-squared:         </th> <td>   0.900</td>\n",
       "</tr>\n",
       "<tr>\n",
       "  <th>Model:</th>                   <td>OLS</td>       <th>  Adj. R-squared:    </th> <td>   0.898</td>\n",
       "</tr>\n",
       "<tr>\n",
       "  <th>Method:</th>             <td>Least Squares</td>  <th>  F-statistic:       </th> <td>   614.0</td>\n",
       "</tr>\n",
       "<tr>\n",
       "  <th>Date:</th>             <td>Fri, 30 Dec 2022</td> <th>  Prob (F-statistic):</th> <td>4.05e-69</td>\n",
       "</tr>\n",
       "<tr>\n",
       "  <th>Time:</th>                 <td>16:30:25</td>     <th>  Log-Likelihood:    </th> <td>  180.71</td>\n",
       "</tr>\n",
       "<tr>\n",
       "  <th>No. Observations:</th>      <td>   140</td>      <th>  AIC:               </th> <td>  -355.4</td>\n",
       "</tr>\n",
       "<tr>\n",
       "  <th>Df Residuals:</th>          <td>   137</td>      <th>  BIC:               </th> <td>  -346.6</td>\n",
       "</tr>\n",
       "<tr>\n",
       "  <th>Df Model:</th>              <td>     2</td>      <th>                     </th>     <td> </td>   \n",
       "</tr>\n",
       "<tr>\n",
       "  <th>Covariance Type:</th>      <td>nonrobust</td>    <th>                     </th>     <td> </td>   \n",
       "</tr>\n",
       "</table>\n",
       "<table class=\"simpletable\">\n",
       "<tr>\n",
       "    <td></td>       <th>coef</th>     <th>std err</th>      <th>t</th>      <th>P>|t|</th>  <th>[0.025</th>    <th>0.975]</th>  \n",
       "</tr>\n",
       "<tr>\n",
       "  <th>const</th> <td>    0.0855</td> <td>    0.014</td> <td>    6.102</td> <td> 0.000</td> <td>    0.058</td> <td>    0.113</td>\n",
       "</tr>\n",
       "<tr>\n",
       "  <th>TV</th>    <td>    0.6595</td> <td>    0.020</td> <td>   32.318</td> <td> 0.000</td> <td>    0.619</td> <td>    0.700</td>\n",
       "</tr>\n",
       "<tr>\n",
       "  <th>Radio</th> <td>    0.2300</td> <td>    0.019</td> <td>   11.868</td> <td> 0.000</td> <td>    0.192</td> <td>    0.268</td>\n",
       "</tr>\n",
       "</table>\n",
       "<table class=\"simpletable\">\n",
       "<tr>\n",
       "  <th>Omnibus:</th>       <td> 1.093</td> <th>  Durbin-Watson:     </th> <td>   2.230</td>\n",
       "</tr>\n",
       "<tr>\n",
       "  <th>Prob(Omnibus):</th> <td> 0.579</td> <th>  Jarque-Bera (JB):  </th> <td>   0.678</td>\n",
       "</tr>\n",
       "<tr>\n",
       "  <th>Skew:</th>          <td>-0.077</td> <th>  Prob(JB):          </th> <td>   0.712</td>\n",
       "</tr>\n",
       "<tr>\n",
       "  <th>Kurtosis:</th>      <td> 3.304</td> <th>  Cond. No.          </th> <td>    5.02</td>\n",
       "</tr>\n",
       "</table><br/><br/>Notes:<br/>[1] Standard Errors assume that the covariance matrix of the errors is correctly specified."
      ],
      "text/plain": [
       "<class 'statsmodels.iolib.summary.Summary'>\n",
       "\"\"\"\n",
       "                            OLS Regression Results                            \n",
       "==============================================================================\n",
       "Dep. Variable:                  Sales   R-squared:                       0.900\n",
       "Model:                            OLS   Adj. R-squared:                  0.898\n",
       "Method:                 Least Squares   F-statistic:                     614.0\n",
       "Date:                Fri, 30 Dec 2022   Prob (F-statistic):           4.05e-69\n",
       "Time:                        16:30:25   Log-Likelihood:                 180.71\n",
       "No. Observations:                 140   AIC:                            -355.4\n",
       "Df Residuals:                     137   BIC:                            -346.6\n",
       "Df Model:                           2                                         \n",
       "Covariance Type:            nonrobust                                         \n",
       "==============================================================================\n",
       "                 coef    std err          t      P>|t|      [0.025      0.975]\n",
       "------------------------------------------------------------------------------\n",
       "const          0.0855      0.014      6.102      0.000       0.058       0.113\n",
       "TV             0.6595      0.020     32.318      0.000       0.619       0.700\n",
       "Radio          0.2300      0.019     11.868      0.000       0.192       0.268\n",
       "==============================================================================\n",
       "Omnibus:                        1.093   Durbin-Watson:                   2.230\n",
       "Prob(Omnibus):                  0.579   Jarque-Bera (JB):                0.678\n",
       "Skew:                          -0.077   Prob(JB):                        0.712\n",
       "Kurtosis:                       3.304   Cond. No.                         5.02\n",
       "==============================================================================\n",
       "\n",
       "Notes:\n",
       "[1] Standard Errors assume that the covariance matrix of the errors is correctly specified.\n",
       "\"\"\""
      ]
     },
     "execution_count": 207,
     "metadata": {},
     "output_type": "execute_result"
    }
   ],
   "source": [
    "X2 = X2_train.drop('Newspaper', axis = 1)\n",
    "\n",
    "X2_train_sm = sm.add_constant(X2)\n",
    "\n",
    "sm_lr = sm.OLS(y2_train, X2_train_sm)\n",
    "sm_lr_model_2  = sm_lr.fit()\n",
    "sm_lr_model_2.summary()"
   ]
  },
  {
   "cell_type": "code",
   "execution_count": 208,
   "id": "0e03552c",
   "metadata": {},
   "outputs": [
    {
     "data": {
      "text/html": [
       "<div>\n",
       "<style scoped>\n",
       "    .dataframe tbody tr th:only-of-type {\n",
       "        vertical-align: middle;\n",
       "    }\n",
       "\n",
       "    .dataframe tbody tr th {\n",
       "        vertical-align: top;\n",
       "    }\n",
       "\n",
       "    .dataframe thead th {\n",
       "        text-align: right;\n",
       "    }\n",
       "</style>\n",
       "<table border=\"1\" class=\"dataframe\">\n",
       "  <thead>\n",
       "    <tr style=\"text-align: right;\">\n",
       "      <th></th>\n",
       "      <th>Features</th>\n",
       "      <th>VIF</th>\n",
       "    </tr>\n",
       "  </thead>\n",
       "  <tbody>\n",
       "    <tr>\n",
       "      <th>0</th>\n",
       "      <td>const</td>\n",
       "      <td>6.08</td>\n",
       "    </tr>\n",
       "    <tr>\n",
       "      <th>1</th>\n",
       "      <td>TV</td>\n",
       "      <td>1.00</td>\n",
       "    </tr>\n",
       "    <tr>\n",
       "      <th>2</th>\n",
       "      <td>Radio</td>\n",
       "      <td>1.00</td>\n",
       "    </tr>\n",
       "  </tbody>\n",
       "</table>\n",
       "</div>"
      ],
      "text/plain": [
       "  Features   VIF\n",
       "0    const  6.08\n",
       "1       TV  1.00\n",
       "2    Radio  1.00"
      ]
     },
     "execution_count": 208,
     "metadata": {},
     "output_type": "execute_result"
    }
   ],
   "source": [
    "vif = pd.DataFrame()\n",
    "vif['Features'] = X2_train_sm.columns\n",
    "vif['VIF'] = [variance_inflation_factor(X2_train_sm.values, i) for i in range(X2_train_sm.shape[1])]\n",
    "vif['VIF'] = round(vif['VIF'], 2)\n",
    "vif = vif.sort_values(by = 'VIF', ascending = False)\n",
    "vif"
   ]
  },
  {
   "cell_type": "code",
   "execution_count": 209,
   "id": "98134efa",
   "metadata": {},
   "outputs": [
    {
     "data": {
      "text/plain": [
       "const    0.085545\n",
       "TV       0.659537\n",
       "Radio    0.229966\n",
       "dtype: float64"
      ]
     },
     "execution_count": 209,
     "metadata": {},
     "output_type": "execute_result"
    }
   ],
   "source": [
    "sm_lr_model_2.params"
   ]
  },
  {
   "cell_type": "markdown",
   "id": "e6463a09",
   "metadata": {},
   "source": [
    "## Residual Analysis"
   ]
  },
  {
   "cell_type": "code",
   "execution_count": 210,
   "id": "1403e2c9",
   "metadata": {},
   "outputs": [],
   "source": [
    "y2_train_pred = sm_lr_model_2.predict(X2_train_sm)\n",
    "res = y2_train - y2_train_pred"
   ]
  },
  {
   "cell_type": "code",
   "execution_count": 211,
   "id": "ce758dc6",
   "metadata": {},
   "outputs": [
    {
     "data": {
      "image/png": "[encoded data removed]",
      "text/plain": [
       "<Figure size 720x576 with 1 Axes>"
      ]
     },
     "metadata": {
      "needs_background": "light"
     },
     "output_type": "display_data"
    }
   ],
   "source": [
    "fig = plt.figure(figsize=(10,8))\n",
    "sns.distplot(res)\n",
    "plt.xlabel('Residual', fontsize = 15)\n",
    "fig.suptitle('Error terms', fontsize = 15)\n",
    "plt.show()"
   ]
  },
  {
   "cell_type": "code",
   "execution_count": 212,
   "id": "8d413cae",
   "metadata": {},
   "outputs": [],
   "source": [
    "X2_test_new = X2_test[['TV', 'Radio']]"
   ]
  },
  {
   "cell_type": "code",
   "execution_count": 214,
   "id": "9b1939bb",
   "metadata": {},
   "outputs": [],
   "source": [
    "X2_test_sm = sm.add_constant(X2_test_new)\n",
    "\n",
    "y2_test_pred = sm_lr_model_2.predict(X2_test_sm)"
   ]
  },
  {
   "cell_type": "code",
   "execution_count": 308,
   "id": "412bac3e",
   "metadata": {},
   "outputs": [
    {
     "data": {
      "text/plain": [
       "pandas.core.series.Series"
      ]
     },
     "execution_count": 308,
     "metadata": {},
     "output_type": "execute_result"
    }
   ],
   "source": [
    "type(y2_test_pred)"
   ]
  },
  {
   "cell_type": "code",
   "execution_count": 215,
   "id": "4f46c156",
   "metadata": {},
   "outputs": [],
   "source": [
    "r2 = r2_score(y2_test, y2_test_pred)"
   ]
  },
  {
   "cell_type": "code",
   "execution_count": 216,
   "id": "0bde2ead",
   "metadata": {},
   "outputs": [
    {
     "data": {
      "text/plain": [
       "0.9032446860354867"
      ]
     },
     "execution_count": 216,
     "metadata": {},
     "output_type": "execute_result"
    }
   ],
   "source": [
    "r2"
   ]
  },
  {
   "cell_type": "code",
   "execution_count": 217,
   "id": "5f3999c6",
   "metadata": {},
   "outputs": [
    {
     "data": {
      "text/plain": [
       "0.8998497627384863"
      ]
     },
     "execution_count": 217,
     "metadata": {},
     "output_type": "execute_result"
    }
   ],
   "source": [
    "adj_r2 = 1-(1-r2)*(60-1)/(60-2-1)\n",
    "adj_r2"
   ]
  },
  {
   "cell_type": "code",
   "execution_count": 219,
   "id": "caa29ea0",
   "metadata": {},
   "outputs": [
    {
     "data": {
      "text/plain": [
       "0.0665558400167323"
      ]
     },
     "execution_count": 219,
     "metadata": {},
     "output_type": "execute_result"
    }
   ],
   "source": [
    "np.sqrt(mean_squared_error(y2_train, y2_train_pred))"
   ]
  },
  {
   "cell_type": "code",
   "execution_count": 218,
   "id": "eb4baa73",
   "metadata": {},
   "outputs": [
    {
     "data": {
      "text/plain": [
       "0.08312160214574991"
      ]
     },
     "execution_count": 218,
     "metadata": {},
     "output_type": "execute_result"
    }
   ],
   "source": [
    "np.sqrt(mean_squared_error(y2_test, y2_test_pred))"
   ]
  },
  {
   "cell_type": "code",
   "execution_count": 145,
   "id": "abc07d97",
   "metadata": {},
   "outputs": [
    {
     "data": {
      "text/plain": [
       "Text(0.5, 1.0, 'y2_test Vs y2_test_pred')"
      ]
     },
     "execution_count": 145,
     "metadata": {},
     "output_type": "execute_result"
    },
    {
     "data": {
      "image/png": "[encoded data removed]",
      "text/plain": [
       "<Figure size 432x288 with 1 Axes>"
      ]
     },
     "metadata": {
      "needs_background": "light"
     },
     "output_type": "display_data"
    }
   ],
   "source": [
    "plt.scatter(y2_test, y2_test_pred)\n",
    "plt.xlabel(\"y2_test_pred\", fontsize = 15)\n",
    "plt.ylabel(\"y2_test\", fontsize = 15)\n",
    "plt.title(\"y2_test Vs y2_test_pred\", fontsize = 15)"
   ]
  },
  {
   "cell_type": "markdown",
   "id": "f9261f2e",
   "metadata": {},
   "source": [
    "# Results "
   ]
  },
  {
   "cell_type": "markdown",
   "id": "10087055",
   "metadata": {},
   "source": [
    "- TV and Radio are statistically significant variables\n",
    "- Equation of the best fit line, \n",
    "   **Sales = (0.659537 * TV) + (0.229966 * Radio) + 0.085545**"
   ]
  },
  {
   "cell_type": "code",
   "execution_count": 281,
   "id": "938c603f",
   "metadata": {},
   "outputs": [],
   "source": [
    "results = pd.DataFrame({\"Model Performance Metrics\":[\"R-Squared\",\"Adjusted R-Squared\",\"RMSE\"],\n",
    "                         \"Train Set\":[0.900,0.898,0.0665],\n",
    "                         \"Test Set\":[0.903,0.899,0.0831]})"
   ]
  },
  {
   "cell_type": "code",
   "execution_count": 282,
   "id": "9cd1de4c",
   "metadata": {},
   "outputs": [
    {
     "data": {
      "text/html": [
       "<div>\n",
       "<style scoped>\n",
       "    .dataframe tbody tr th:only-of-type {\n",
       "        vertical-align: middle;\n",
       "    }\n",
       "\n",
       "    .dataframe tbody tr th {\n",
       "        vertical-align: top;\n",
       "    }\n",
       "\n",
       "    .dataframe thead th {\n",
       "        text-align: right;\n",
       "    }\n",
       "</style>\n",
       "<table border=\"1\" class=\"dataframe\">\n",
       "  <thead>\n",
       "    <tr style=\"text-align: right;\">\n",
       "      <th></th>\n",
       "      <th>Model Performance Metrics</th>\n",
       "      <th>Train Set</th>\n",
       "      <th>Test Set</th>\n",
       "    </tr>\n",
       "  </thead>\n",
       "  <tbody>\n",
       "    <tr>\n",
       "      <th>0</th>\n",
       "      <td>R-Squared</td>\n",
       "      <td>0.9000</td>\n",
       "      <td>0.9030</td>\n",
       "    </tr>\n",
       "    <tr>\n",
       "      <th>1</th>\n",
       "      <td>Adjusted R-Squared</td>\n",
       "      <td>0.8980</td>\n",
       "      <td>0.8990</td>\n",
       "    </tr>\n",
       "    <tr>\n",
       "      <th>2</th>\n",
       "      <td>RMSE</td>\n",
       "      <td>0.0665</td>\n",
       "      <td>0.0831</td>\n",
       "    </tr>\n",
       "  </tbody>\n",
       "</table>\n",
       "</div>"
      ],
      "text/plain": [
       "  Model Performance Metrics  Train Set  Test Set\n",
       "0                 R-Squared     0.9000    0.9030\n",
       "1        Adjusted R-Squared     0.8980    0.8990\n",
       "2                      RMSE     0.0665    0.0831"
      ]
     },
     "execution_count": 282,
     "metadata": {},
     "output_type": "execute_result"
    }
   ],
   "source": [
    "results"
   ]
  },
  {
   "cell_type": "code",
   "execution_count": 346,
   "id": "de5861d4",
   "metadata": {
    "scrolled": false
   },
   "outputs": [
    {
     "data": {
      "application/javascript": [
       "/* Put everything inside the global mpl namespace */\n",
       "/* global mpl */\n",
       "window.mpl = {};\n",
       "\n",
       "mpl.get_websocket_type = function () {\n",
       "    if (typeof WebSocket !== 'undefined') {\n",
       "        return WebSocket;\n",
       "    } else if (typeof MozWebSocket !== 'undefined') {\n",
       "        return MozWebSocket;\n",
       "    } else {\n",
       "        alert(\n",
       "            'Your browser does not have WebSocket support. ' +\n",
       "                'Please try Chrome, Safari or Firefox ≥ 6. ' +\n",
       "                'Firefox 4 and 5 are also supported but you ' +\n",
       "                'have to enable WebSockets in about:config.'\n",
       "        );\n",
       "    }\n",
       "};\n",
       "\n",
       "mpl.figure = function (figure_id, websocket, ondownload, parent_element) {\n",
       "    this.id = figure_id;\n",
       "\n",
       "    this.ws = websocket;\n",
       "\n",
       "    this.supports_binary = this.ws.binaryType !== undefined;\n",
       "\n",
       "    if (!this.supports_binary) {\n",
       "        var warnings = document.getElementById('mpl-warnings');\n",
       "        if (warnings) {\n",
       "            warnings.style.display = 'block';\n",
       "            warnings.textContent =\n",
       "                'This browser does not support binary websocket messages. ' +\n",
       "                'Performance may be slow.';\n",
       "        }\n",
       "    }\n",
       "\n",
       "    this.imageObj = new Image();\n",
       "\n",
       "    this.context = undefined;\n",
       "    this.message = undefined;\n",
       "    this.canvas = undefined;\n",
       "    this.rubberband_canvas = undefined;\n",
       "    this.rubberband_context = undefined;\n",
       "    this.format_dropdown = undefined;\n",
       "\n",
       "    this.image_mode = 'full';\n",
       "\n",
       "    this.root = document.createElement('div');\n",
       "    this.root.setAttribute('style', 'display: inline-block');\n",
       "    this._root_extra_style(this.root);\n",
       "\n",
       "    parent_element.appendChild(this.root);\n",
       "\n",
       "    this._init_header(this);\n",
       "    this._init_canvas(this);\n",
       "    this._init_toolbar(this);\n",
       "\n",
       "    var fig = this;\n",
       "\n",
       "    this.waiting = false;\n",
       "\n",
       "    this.ws.onopen = function () {\n",
       "        fig.send_message('supports_binary', { value: fig.supports_binary });\n",
       "        fig.send_message('send_image_mode', {});\n",
       "        if (fig.ratio !== 1) {\n",
       "            fig.send_message('set_dpi_ratio', { dpi_ratio: fig.ratio });\n",
       "        }\n",
       "        fig.send_message('refresh', {});\n",
       "    };\n",
       "\n",
       "    this.imageObj.onload = function () {\n",
       "        if (fig.image_mode === 'full') {\n",
       "            // Full images could contain transparency (where diff images\n",
       "            // almost always do), so we need to clear the canvas so that\n",
       "            // there is no ghosting.\n",
       "            fig.context.clearRect(0, 0, fig.canvas.width, fig.canvas.height);\n",
       "        }\n",
       "        fig.context.drawImage(fig.imageObj, 0, 0);\n",
       "    };\n",
       "\n",
       "    this.imageObj.onunload = function () {\n",
       "        fig.ws.close();\n",
       "    };\n",
       "\n",
       "    this.ws.onmessage = this._make_on_message_function(this);\n",
       "\n",
       "    this.ondownload = ondownload;\n",
       "};\n",
       "\n",
       "mpl.figure.prototype._init_header = function () {\n",
       "    var titlebar = document.createElement('div');\n",
       "    titlebar.classList =\n",
       "        'ui-dialog-titlebar ui-widget-header ui-corner-all ui-helper-clearfix';\n",
       "    var titletext = document.createElement('div');\n",
       "    titletext.classList = 'ui-dialog-title';\n",
       "    titletext.setAttribute(\n",
       "        'style',\n",
       "        'width: 100%; text-align: center; padding: 3px;'\n",
       "    );\n",
       "    titlebar.appendChild(titletext);\n",
       "    this.root.appendChild(titlebar);\n",
       "    this.header = titletext;\n",
       "};\n",
       "\n",
       "mpl.figure.prototype._canvas_extra_style = function (_canvas_div) {};\n",
       "\n",
       "mpl.figure.prototype._root_extra_style = function (_canvas_div) {};\n",
       "\n",
       "mpl.figure.prototype._init_canvas = function () {\n",
       "    var fig = this;\n",
       "\n",
       "    var canvas_div = (this.canvas_div = document.createElement('div'));\n",
       "    canvas_div.setAttribute(\n",
       "        'style',\n",
       "        'border: 1px solid #ddd;' +\n",
       "            'box-sizing: content-box;' +\n",
       "            'clear: both;' +\n",
       "            'min-height: 1px;' +\n",
       "            'min-width: 1px;' +\n",
       "            'outline: 0;' +\n",
       "            'overflow: hidden;' +\n",
       "            'position: relative;' +\n",
       "            'resize: both;'\n",
       "    );\n",
       "\n",
       "    function on_keyboard_event_closure(name) {\n",
       "        return function (event) {\n",
       "            return fig.key_event(event, name);\n",
       "        };\n",
       "    }\n",
       "\n",
       "    canvas_div.addEventListener(\n",
       "        'keydown',\n",
       "        on_keyboard_event_closure('key_press')\n",
       "    );\n",
       "    canvas_div.addEventListener(\n",
       "        'keyup',\n",
       "        on_keyboard_event_closure('key_release')\n",
       "    );\n",
       "\n",
       "    this._canvas_extra_style(canvas_div);\n",
       "    this.root.appendChild(canvas_div);\n",
       "\n",
       "    var canvas = (this.canvas = document.createElement('canvas'));\n",
       "    canvas.classList.add('mpl-canvas');\n",
       "    canvas.setAttribute('style', 'box-sizing: content-box;');\n",
       "\n",
       "    this.context = canvas.getContext('2d');\n",
       "\n",
       "    var backingStore =\n",
       "        this.context.backingStorePixelRatio ||\n",
       "        this.context.webkitBackingStorePixelRatio ||\n",
       "        this.context.mozBackingStorePixelRatio ||\n",
       "        this.context.msBackingStorePixelRatio ||\n",
       "        this.context.oBackingStorePixelRatio ||\n",
       "        this.context.backingStorePixelRatio ||\n",
       "        1;\n",
       "\n",
       "    this.ratio = (window.devicePixelRatio || 1) / backingStore;\n",
       "\n",
       "    var rubberband_canvas = (this.rubberband_canvas = document.createElement(\n",
       "        'canvas'\n",
       "    ));\n",
       "    rubberband_canvas.setAttribute(\n",
       "        'style',\n",
       "        'box-sizing: content-box; position: absolute; left: 0; top: 0; z-index: 1;'\n",
       "    );\n",
       "\n",
       "    // Apply a ponyfill if ResizeObserver is not implemented by browser.\n",
       "    if (this.ResizeObserver === undefined) {\n",
       "        if (window.ResizeObserver !== undefined) {\n",
       "            this.ResizeObserver = window.ResizeObserver;\n",
       "        } else {\n",
       "            var obs = _JSXTOOLS_RESIZE_OBSERVER({});\n",
       "            this.ResizeObserver = obs.ResizeObserver;\n",
       "        }\n",
       "    }\n",
       "\n",
       "    this.resizeObserverInstance = new this.ResizeObserver(function (entries) {\n",
       "        var nentries = entries.length;\n",
       "        for (var i = 0; i < nentries; i++) {\n",
       "            var entry = entries[i];\n",
       "            var width, height;\n",
       "            if (entry.contentBoxSize) {\n",
       "                if (entry.contentBoxSize instanceof Array) {\n",
       "                    // Chrome 84 implements new version of spec.\n",
       "                    width = entry.contentBoxSize[0].inlineSize;\n",
       "                    height = entry.contentBoxSize[0].blockSize;\n",
       "                } else {\n",
       "                    // Firefox implements old version of spec.\n",
       "                    width = entry.contentBoxSize.inlineSize;\n",
       "                    height = entry.contentBoxSize.blockSize;\n",
       "                }\n",
       "            } else {\n",
       "                // Chrome <84 implements even older version of spec.\n",
       "                width = entry.contentRect.width;\n",
       "                height = entry.contentRect.height;\n",
       "            }\n",
       "\n",
       "            // Keep the size of the canvas and rubber band canvas in sync with\n",
       "            // the canvas container.\n",
       "            if (entry.devicePixelContentBoxSize) {\n",
       "                // Chrome 84 implements new version of spec.\n",
       "                canvas.setAttribute(\n",
       "                    'width',\n",
       "                    entry.devicePixelContentBoxSize[0].inlineSize\n",
       "                );\n",
       "                canvas.setAttribute(\n",
       "                    'height',\n",
       "                    entry.devicePixelContentBoxSize[0].blockSize\n",
       "                );\n",
       "            } else {\n",
       "                canvas.setAttribute('width', width * fig.ratio);\n",
       "                canvas.setAttribute('height', height * fig.ratio);\n",
       "            }\n",
       "            canvas.setAttribute(\n",
       "                'style',\n",
       "                'width: ' + width + 'px; height: ' + height + 'px;'\n",
       "            );\n",
       "\n",
       "            rubberband_canvas.setAttribute('width', width);\n",
       "            rubberband_canvas.setAttribute('height', height);\n",
       "\n",
       "            // And update the size in Python. We ignore the initial 0/0 size\n",
       "            // that occurs as the element is placed into the DOM, which should\n",
       "            // otherwise not happen due to the minimum size styling.\n",
       "            if (fig.ws.readyState == 1 && width != 0 && height != 0) {\n",
       "                fig.request_resize(width, height);\n",
       "            }\n",
       "        }\n",
       "    });\n",
       "    this.resizeObserverInstance.observe(canvas_div);\n",
       "\n",
       "    function on_mouse_event_closure(name) {\n",
       "        return function (event) {\n",
       "            return fig.mouse_event(event, name);\n",
       "        };\n",
       "    }\n",
       "\n",
       "    rubberband_canvas.addEventListener(\n",
       "        'mousedown',\n",
       "        on_mouse_event_closure('button_press')\n",
       "    );\n",
       "    rubberband_canvas.addEventListener(\n",
       "        'mouseup',\n",
       "        on_mouse_event_closure('button_release')\n",
       "    );\n",
       "    rubberband_canvas.addEventListener(\n",
       "        'dblclick',\n",
       "        on_mouse_event_closure('dblclick')\n",
       "    );\n",
       "    // Throttle sequential mouse events to 1 every 20ms.\n",
       "    rubberband_canvas.addEventListener(\n",
       "        'mousemove',\n",
       "        on_mouse_event_closure('motion_notify')\n",
       "    );\n",
       "\n",
       "    rubberband_canvas.addEventListener(\n",
       "        'mouseenter',\n",
       "        on_mouse_event_closure('figure_enter')\n",
       "    );\n",
       "    rubberband_canvas.addEventListener(\n",
       "        'mouseleave',\n",
       "        on_mouse_event_closure('figure_leave')\n",
       "    );\n",
       "\n",
       "    canvas_div.addEventListener('wheel', function (event) {\n",
       "        if (event.deltaY < 0) {\n",
       "            event.step = 1;\n",
       "        } else {\n",
       "            event.step = -1;\n",
       "        }\n",
       "        on_mouse_event_closure('scroll')(event);\n",
       "    });\n",
       "\n",
       "    canvas_div.appendChild(canvas);\n",
       "    canvas_div.appendChild(rubberband_canvas);\n",
       "\n",
       "    this.rubberband_context = rubberband_canvas.getContext('2d');\n",
       "    this.rubberband_context.strokeStyle = '#000000';\n",
       "\n",
       "    this._resize_canvas = function (width, height, forward) {\n",
       "        if (forward) {\n",
       "            canvas_div.style.width = width + 'px';\n",
       "            canvas_div.style.height = height + 'px';\n",
       "        }\n",
       "    };\n",
       "\n",
       "    // Disable right mouse context menu.\n",
       "    this.rubberband_canvas.addEventListener('contextmenu', function (_e) {\n",
       "        event.preventDefault();\n",
       "        return false;\n",
       "    });\n",
       "\n",
       "    function set_focus() {\n",
       "        canvas.focus();\n",
       "        canvas_div.focus();\n",
       "    }\n",
       "\n",
       "    window.setTimeout(set_focus, 100);\n",
       "};\n",
       "\n",
       "mpl.figure.prototype._init_toolbar = function () {\n",
       "    var fig = this;\n",
       "\n",
       "    var toolbar = document.createElement('div');\n",
       "    toolbar.classList = 'mpl-toolbar';\n",
       "    this.root.appendChild(toolbar);\n",
       "\n",
       "    function on_click_closure(name) {\n",
       "        return function (_event) {\n",
       "            return fig.toolbar_button_onclick(name);\n",
       "        };\n",
       "    }\n",
       "\n",
       "    function on_mouseover_closure(tooltip) {\n",
       "        return function (event) {\n",
       "            if (!event.currentTarget.disabled) {\n",
       "                return fig.toolbar_button_onmouseover(tooltip);\n",
       "            }\n",
       "        };\n",
       "    }\n",
       "\n",
       "    fig.buttons = {};\n",
       "    var buttonGroup = document.createElement('div');\n",
       "    buttonGroup.classList = 'mpl-button-group';\n",
       "    for (var toolbar_ind in mpl.toolbar_items) {\n",
       "        var name = mpl.toolbar_items[toolbar_ind][0];\n",
       "        var tooltip = mpl.toolbar_items[toolbar_ind][1];\n",
       "        var image = mpl.toolbar_items[toolbar_ind][2];\n",
       "        var method_name = mpl.toolbar_items[toolbar_ind][3];\n",
       "\n",
       "        if (!name) {\n",
       "            /* Instead of a spacer, we start a new button group. */\n",
       "            if (buttonGroup.hasChildNodes()) {\n",
       "                toolbar.appendChild(buttonGroup);\n",
       "            }\n",
       "            buttonGroup = document.createElement('div');\n",
       "            buttonGroup.classList = 'mpl-button-group';\n",
       "            continue;\n",
       "        }\n",
       "\n",
       "        var button = (fig.buttons[name] = document.createElement('button'));\n",
       "        button.classList = 'mpl-widget';\n",
       "        button.setAttribute('role', 'button');\n",
       "        button.setAttribute('aria-disabled', 'false');\n",
       "        button.addEventListener('click', on_click_closure(method_name));\n",
       "        button.addEventListener('mouseover', on_mouseover_closure(tooltip));\n",
       "\n",
       "        var icon_img = document.createElement('img');\n",
       "        icon_img.src = '_images/' + image + '.png';\n",
       "        icon_img.srcset = '_images/' + image + '_large.png 2x';\n",
       "        icon_img.alt = tooltip;\n",
       "        button.appendChild(icon_img);\n",
       "\n",
       "        buttonGroup.appendChild(button);\n",
       "    }\n",
       "\n",
       "    if (buttonGroup.hasChildNodes()) {\n",
       "        toolbar.appendChild(buttonGroup);\n",
       "    }\n",
       "\n",
       "    var fmt_picker = document.createElement('select');\n",
       "    fmt_picker.classList = 'mpl-widget';\n",
       "    toolbar.appendChild(fmt_picker);\n",
       "    this.format_dropdown = fmt_picker;\n",
       "\n",
       "    for (var ind in mpl.extensions) {\n",
       "        var fmt = mpl.extensions[ind];\n",
       "        var option = document.createElement('option');\n",
       "        option.selected = fmt === mpl.default_extension;\n",
       "        option.innerHTML = fmt;\n",
       "        fmt_picker.appendChild(option);\n",
       "    }\n",
       "\n",
       "    var status_bar = document.createElement('span');\n",
       "    status_bar.classList = 'mpl-message';\n",
       "    toolbar.appendChild(status_bar);\n",
       "    this.message = status_bar;\n",
       "};\n",
       "\n",
       "mpl.figure.prototype.request_resize = function (x_pixels, y_pixels) {\n",
       "    // Request matplotlib to resize the figure. Matplotlib will then trigger a resize in the client,\n",
       "    // which will in turn request a refresh of the image.\n",
       "    this.send_message('resize', { width: x_pixels, height: y_pixels });\n",
       "};\n",
       "\n",
       "mpl.figure.prototype.send_message = function (type, properties) {\n",
       "    properties['type'] = type;\n",
       "    properties['figure_id'] = this.id;\n",
       "    this.ws.send(JSON.stringify(properties));\n",
       "};\n",
       "\n",
       "mpl.figure.prototype.send_draw_message = function () {\n",
       "    if (!this.waiting) {\n",
       "        this.waiting = true;\n",
       "        this.ws.send(JSON.stringify({ type: 'draw', figure_id: this.id }));\n",
       "    }\n",
       "};\n",
       "\n",
       "mpl.figure.prototype.handle_save = function (fig, _msg) {\n",
       "    var format_dropdown = fig.format_dropdown;\n",
       "    var format = format_dropdown.options[format_dropdown.selectedIndex].value;\n",
       "    fig.ondownload(fig, format);\n",
       "};\n",
       "\n",
       "mpl.figure.prototype.handle_resize = function (fig, msg) {\n",
       "    var size = msg['size'];\n",
       "    if (size[0] !== fig.canvas.width || size[1] !== fig.canvas.height) {\n",
       "        fig._resize_canvas(size[0], size[1], msg['forward']);\n",
       "        fig.send_message('refresh', {});\n",
       "    }\n",
       "};\n",
       "\n",
       "mpl.figure.prototype.handle_rubberband = function (fig, msg) {\n",
       "    var x0 = msg['x0'] / fig.ratio;\n",
       "    var y0 = (fig.canvas.height - msg['y0']) / fig.ratio;\n",
       "    var x1 = msg['x1'] / fig.ratio;\n",
       "    var y1 = (fig.canvas.height - msg['y1']) / fig.ratio;\n",
       "    x0 = Math.floor(x0) + 0.5;\n",
       "    y0 = Math.floor(y0) + 0.5;\n",
       "    x1 = Math.floor(x1) + 0.5;\n",
       "    y1 = Math.floor(y1) + 0.5;\n",
       "    var min_x = Math.min(x0, x1);\n",
       "    var min_y = Math.min(y0, y1);\n",
       "    var width = Math.abs(x1 - x0);\n",
       "    var height = Math.abs(y1 - y0);\n",
       "\n",
       "    fig.rubberband_context.clearRect(\n",
       "        0,\n",
       "        0,\n",
       "        fig.canvas.width / fig.ratio,\n",
       "        fig.canvas.height / fig.ratio\n",
       "    );\n",
       "\n",
       "    fig.rubberband_context.strokeRect(min_x, min_y, width, height);\n",
       "};\n",
       "\n",
       "mpl.figure.prototype.handle_figure_label = function (fig, msg) {\n",
       "    // Updates the figure title.\n",
       "    fig.header.textContent = msg['label'];\n",
       "};\n",
       "\n",
       "mpl.figure.prototype.handle_cursor = function (fig, msg) {\n",
       "    var cursor = msg['cursor'];\n",
       "    switch (cursor) {\n",
       "        case 0:\n",
       "            cursor = 'pointer';\n",
       "            break;\n",
       "        case 1:\n",
       "            cursor = 'default';\n",
       "            break;\n",
       "        case 2:\n",
       "            cursor = 'crosshair';\n",
       "            break;\n",
       "        case 3:\n",
       "            cursor = 'move';\n",
       "            break;\n",
       "    }\n",
       "    fig.rubberband_canvas.style.cursor = cursor;\n",
       "};\n",
       "\n",
       "mpl.figure.prototype.handle_message = function (fig, msg) {\n",
       "    fig.message.textContent = msg['message'];\n",
       "};\n",
       "\n",
       "mpl.figure.prototype.handle_draw = function (fig, _msg) {\n",
       "    // Request the server to send over a new figure.\n",
       "    fig.send_draw_message();\n",
       "};\n",
       "\n",
       "mpl.figure.prototype.handle_image_mode = function (fig, msg) {\n",
       "    fig.image_mode = msg['mode'];\n",
       "};\n",
       "\n",
       "mpl.figure.prototype.handle_history_buttons = function (fig, msg) {\n",
       "    for (var key in msg) {\n",
       "        if (!(key in fig.buttons)) {\n",
       "            continue;\n",
       "        }\n",
       "        fig.buttons[key].disabled = !msg[key];\n",
       "        fig.buttons[key].setAttribute('aria-disabled', !msg[key]);\n",
       "    }\n",
       "};\n",
       "\n",
       "mpl.figure.prototype.handle_navigate_mode = function (fig, msg) {\n",
       "    if (msg['mode'] === 'PAN') {\n",
       "        fig.buttons['Pan'].classList.add('active');\n",
       "        fig.buttons['Zoom'].classList.remove('active');\n",
       "    } else if (msg['mode'] === 'ZOOM') {\n",
       "        fig.buttons['Pan'].classList.remove('active');\n",
       "        fig.buttons['Zoom'].classList.add('active');\n",
       "    } else {\n",
       "        fig.buttons['Pan'].classList.remove('active');\n",
       "        fig.buttons['Zoom'].classList.remove('active');\n",
       "    }\n",
       "};\n",
       "\n",
       "mpl.figure.prototype.updated_canvas_event = function () {\n",
       "    // Called whenever the canvas gets updated.\n",
       "    this.send_message('ack', {});\n",
       "};\n",
       "\n",
       "// A function to construct a web socket function for onmessage handling.\n",
       "// Called in the figure constructor.\n",
       "mpl.figure.prototype._make_on_message_function = function (fig) {\n",
       "    return function socket_on_message(evt) {\n",
       "        if (evt.data instanceof Blob) {\n",
       "            var img = evt.data;\n",
       "            if (img.type !== 'image/png') {\n",
       "                /* FIXME: We get \"Resource interpreted as Image but\n",
       "                 * transferred with MIME type text/plain:\" errors on\n",
       "                 * Chrome.  But how to set the MIME type?  It doesn't seem\n",
       "                 * to be part of the websocket stream */\n",
       "                img.type = 'image/png';\n",
       "            }\n",
       "\n",
       "            /* Free the memory for the previous frames */\n",
       "            if (fig.imageObj.src) {\n",
       "                (window.URL || window.webkitURL).revokeObjectURL(\n",
       "                    fig.imageObj.src\n",
       "                );\n",
       "            }\n",
       "\n",
       "            fig.imageObj.src = (window.URL || window.webkitURL).createObjectURL(\n",
       "                img\n",
       "            );\n",
       "            fig.updated_canvas_event();\n",
       "            fig.waiting = false;\n",
       "            return;\n",
       "        } else if (\n",
       "            typeof evt.data === 'string' &&\n",
       "            evt.data.slice(0, 21) === 'data:image/png;base64'\n",
       "        ) {\n",
       "            fig.imageObj.src = evt.data;\n",
       "            fig.updated_canvas_event();\n",
       "            fig.waiting = false;\n",
       "            return;\n",
       "        }\n",
       "\n",
       "        var msg = JSON.parse(evt.data);\n",
       "        var msg_type = msg['type'];\n",
       "\n",
       "        // Call the  \"handle_{type}\" callback, which takes\n",
       "        // the figure and JSON message as its only arguments.\n",
       "        try {\n",
       "            var callback = fig['handle_' + msg_type];\n",
       "        } catch (e) {\n",
       "            console.log(\n",
       "                \"No handler for the '\" + msg_type + \"' message type: \",\n",
       "                msg\n",
       "            );\n",
       "            return;\n",
       "        }\n",
       "\n",
       "        if (callback) {\n",
       "            try {\n",
       "                // console.log(\"Handling '\" + msg_type + \"' message: \", msg);\n",
       "                callback(fig, msg);\n",
       "            } catch (e) {\n",
       "                console.log(\n",
       "                    \"Exception inside the 'handler_\" + msg_type + \"' callback:\",\n",
       "                    e,\n",
       "                    e.stack,\n",
       "                    msg\n",
       "                );\n",
       "            }\n",
       "        }\n",
       "    };\n",
       "};\n",
       "\n",
       "// from http://stackoverflow.com/questions/1114465/getting-mouse-location-in-canvas\n",
       "mpl.findpos = function (e) {\n",
       "    //this section is from http://www.quirksmode.org/js/events_properties.html\n",
       "    var targ;\n",
       "    if (!e) {\n",
       "        e = window.event;\n",
       "    }\n",
       "    if (e.target) {\n",
       "        targ = e.target;\n",
       "    } else if (e.srcElement) {\n",
       "        targ = e.srcElement;\n",
       "    }\n",
       "    if (targ.nodeType === 3) {\n",
       "        // defeat Safari bug\n",
       "        targ = targ.parentNode;\n",
       "    }\n",
       "\n",
       "    // pageX,Y are the mouse positions relative to the document\n",
       "    var boundingRect = targ.getBoundingClientRect();\n",
       "    var x = e.pageX - (boundingRect.left + document.body.scrollLeft);\n",
       "    var y = e.pageY - (boundingRect.top + document.body.scrollTop);\n",
       "\n",
       "    return { x: x, y: y };\n",
       "};\n",
       "\n",
       "/*\n",
       " * return a copy of an object with only non-object keys\n",
       " * we need this to avoid circular references\n",
       " * http://stackoverflow.com/a/24161582/3208463\n",
       " */\n",
       "function simpleKeys(original) {\n",
       "    return Object.keys(original).reduce(function (obj, key) {\n",
       "        if (typeof original[key] !== 'object') {\n",
       "            obj[key] = original[key];\n",
       "        }\n",
       "        return obj;\n",
       "    }, {});\n",
       "}\n",
       "\n",
       "mpl.figure.prototype.mouse_event = function (event, name) {\n",
       "    var canvas_pos = mpl.findpos(event);\n",
       "\n",
       "    if (name === 'button_press') {\n",
       "        this.canvas.focus();\n",
       "        this.canvas_div.focus();\n",
       "    }\n",
       "\n",
       "    var x = canvas_pos.x * this.ratio;\n",
       "    var y = canvas_pos.y * this.ratio;\n",
       "\n",
       "    this.send_message(name, {\n",
       "        x: x,\n",
       "        y: y,\n",
       "        button: event.button,\n",
       "        step: event.step,\n",
       "        guiEvent: simpleKeys(event),\n",
       "    });\n",
       "\n",
       "    /* This prevents the web browser from automatically changing to\n",
       "     * the text insertion cursor when the button is pressed.  We want\n",
       "     * to control all of the cursor setting manually through the\n",
       "     * 'cursor' event from matplotlib */\n",
       "    event.preventDefault();\n",
       "    return false;\n",
       "};\n",
       "\n",
       "mpl.figure.prototype._key_event_extra = function (_event, _name) {\n",
       "    // Handle any extra behaviour associated with a key event\n",
       "};\n",
       "\n",
       "mpl.figure.prototype.key_event = function (event, name) {\n",
       "    // Prevent repeat events\n",
       "    if (name === 'key_press') {\n",
       "        if (event.key === this._key) {\n",
       "            return;\n",
       "        } else {\n",
       "            this._key = event.key;\n",
       "        }\n",
       "    }\n",
       "    if (name === 'key_release') {\n",
       "        this._key = null;\n",
       "    }\n",
       "\n",
       "    var value = '';\n",
       "    if (event.ctrlKey && event.key !== 'Control') {\n",
       "        value += 'ctrl+';\n",
       "    }\n",
       "    else if (event.altKey && event.key !== 'Alt') {\n",
       "        value += 'alt+';\n",
       "    }\n",
       "    else if (event.shiftKey && event.key !== 'Shift') {\n",
       "        value += 'shift+';\n",
       "    }\n",
       "\n",
       "    value += 'k' + event.key;\n",
       "\n",
       "    this._key_event_extra(event, name);\n",
       "\n",
       "    this.send_message(name, { key: value, guiEvent: simpleKeys(event) });\n",
       "    return false;\n",
       "};\n",
       "\n",
       "mpl.figure.prototype.toolbar_button_onclick = function (name) {\n",
       "    if (name === 'download') {\n",
       "        this.handle_save(this, null);\n",
       "    } else {\n",
       "        this.send_message('toolbar_button', { name: name });\n",
       "    }\n",
       "};\n",
       "\n",
       "mpl.figure.prototype.toolbar_button_onmouseover = function (tooltip) {\n",
       "    this.message.textContent = tooltip;\n",
       "};\n",
       "\n",
       "///////////////// REMAINING CONTENT GENERATED BY embed_js.py /////////////////\n",
       "// prettier-ignore\n",
       "var _JSXTOOLS_RESIZE_OBSERVER=function(A){var t,i=new WeakMap,n=new WeakMap,a=new WeakMap,r=new WeakMap,o=new Set;function s(e){if(!(this instanceof s))throw new TypeError(\"Constructor requires 'new' operator\");i.set(this,e)}function h(){throw new TypeError(\"Function is not a constructor\")}function c(e,t,i,n){e=0 in arguments?Number(arguments[0]):0,t=1 in arguments?Number(arguments[1]):0,i=2 in arguments?Number(arguments[2]):0,n=3 in arguments?Number(arguments[3]):0,this.right=(this.x=this.left=e)+(this.width=i),this.bottom=(this.y=this.top=t)+(this.height=n),Object.freeze(this)}function d(){t=requestAnimationFrame(d);var s=new WeakMap,p=new Set;o.forEach((function(t){r.get(t).forEach((function(i){var r=t instanceof window.SVGElement,o=a.get(t),d=r?0:parseFloat(o.paddingTop),f=r?0:parseFloat(o.paddingRight),l=r?0:parseFloat(o.paddingBottom),u=r?0:parseFloat(o.paddingLeft),g=r?0:parseFloat(o.borderTopWidth),m=r?0:parseFloat(o.borderRightWidth),w=r?0:parseFloat(o.borderBottomWidth),b=u+f,F=d+l,v=(r?0:parseFloat(o.borderLeftWidth))+m,W=g+w,y=r?0:t.offsetHeight-W-t.clientHeight,E=r?0:t.offsetWidth-v-t.clientWidth,R=b+v,z=F+W,M=r?t.width:parseFloat(o.width)-R-E,O=r?t.height:parseFloat(o.height)-z-y;if(n.has(t)){var k=n.get(t);if(k[0]===M&&k[1]===O)return}n.set(t,[M,O]);var S=Object.create(h.prototype);S.target=t,S.contentRect=new c(u,d,M,O),s.has(i)||(s.set(i,[]),p.add(i)),s.get(i).push(S)}))})),p.forEach((function(e){i.get(e).call(e,s.get(e),e)}))}return s.prototype.observe=function(i){if(i instanceof window.Element){r.has(i)||(r.set(i,new Set),o.add(i),a.set(i,window.getComputedStyle(i)));var n=r.get(i);n.has(this)||n.add(this),cancelAnimationFrame(t),t=requestAnimationFrame(d)}},s.prototype.unobserve=function(i){if(i instanceof window.Element&&r.has(i)){var n=r.get(i);n.has(this)&&(n.delete(this),n.size||(r.delete(i),o.delete(i))),n.size||r.delete(i),o.size||cancelAnimationFrame(t)}},A.DOMRectReadOnly=c,A.ResizeObserver=s,A.ResizeObserverEntry=h,A}; // eslint-disable-line\n",
       "mpl.toolbar_items = [[\"Home\", \"Reset original view\", \"fa fa-home icon-home\", \"home\"], [\"Back\", \"Back to previous view\", \"fa fa-arrow-left icon-arrow-left\", \"back\"], [\"Forward\", \"Forward to next view\", \"fa fa-arrow-right icon-arrow-right\", \"forward\"], [\"\", \"\", \"\", \"\"], [\"Pan\", \"Left button pans, Right button zooms\\nx/y fixes axis, CTRL fixes aspect\", \"fa fa-arrows icon-move\", \"pan\"], [\"Zoom\", \"Zoom to rectangle\\nx/y fixes axis, CTRL fixes aspect\", \"fa fa-square-o icon-check-empty\", \"zoom\"], [\"\", \"\", \"\", \"\"], [\"Download\", \"Download plot\", \"fa fa-floppy-o icon-save\", \"download\"]];\n",
       "\n",
       "mpl.extensions = [\"eps\", \"jpeg\", \"pgf\", \"pdf\", \"png\", \"ps\", \"raw\", \"svg\", \"tif\"];\n",
       "\n",
       "mpl.default_extension = \"png\";/* global mpl */\n",
       "\n",
       "var comm_websocket_adapter = function (comm) {\n",
       "    // Create a \"websocket\"-like object which calls the given IPython comm\n",
       "    // object with the appropriate methods. Currently this is a non binary\n",
       "    // socket, so there is still some room for performance tuning.\n",
       "    var ws = {};\n",
       "\n",
       "    ws.binaryType = comm.kernel.ws.binaryType;\n",
       "    ws.readyState = comm.kernel.ws.readyState;\n",
       "    function updateReadyState(_event) {\n",
       "        if (comm.kernel.ws) {\n",
       "            ws.readyState = comm.kernel.ws.readyState;\n",
       "        } else {\n",
       "            ws.readyState = 3; // Closed state.\n",
       "        }\n",
       "    }\n",
       "    comm.kernel.ws.addEventListener('open', updateReadyState);\n",
       "    comm.kernel.ws.addEventListener('close', updateReadyState);\n",
       "    comm.kernel.ws.addEventListener('error', updateReadyState);\n",
       "\n",
       "    ws.close = function () {\n",
       "        comm.close();\n",
       "    };\n",
       "    ws.send = function (m) {\n",
       "        //console.log('sending', m);\n",
       "        comm.send(m);\n",
       "    };\n",
       "    // Register the callback with on_msg.\n",
       "    comm.on_msg(function (msg) {\n",
       "        //console.log('receiving', msg['content']['data'], msg);\n",
       "        var data = msg['content']['data'];\n",
       "        if (data['blob'] !== undefined) {\n",
       "            data = {\n",
       "                data: new Blob(msg['buffers'], { type: data['blob'] }),\n",
       "            };\n",
       "        }\n",
       "        // Pass the mpl event to the overridden (by mpl) onmessage function.\n",
       "        ws.onmessage(data);\n",
       "    });\n",
       "    return ws;\n",
       "};\n",
       "\n",
       "mpl.mpl_figure_comm = function (comm, msg) {\n",
       "    // This is the function which gets called when the mpl process\n",
       "    // starts-up an IPython Comm through the \"matplotlib\" channel.\n",
       "\n",
       "    var id = msg.content.data.id;\n",
       "    // Get hold of the div created by the display call when the Comm\n",
       "    // socket was opened in Python.\n",
       "    var element = document.getElementById(id);\n",
       "    var ws_proxy = comm_websocket_adapter(comm);\n",
       "\n",
       "    function ondownload(figure, _format) {\n",
       "        window.open(figure.canvas.toDataURL());\n",
       "    }\n",
       "\n",
       "    var fig = new mpl.figure(id, ws_proxy, ondownload, element);\n",
       "\n",
       "    // Call onopen now - mpl needs it, as it is assuming we've passed it a real\n",
       "    // web socket which is closed, not our websocket->open comm proxy.\n",
       "    ws_proxy.onopen();\n",
       "\n",
       "    fig.parent_element = element;\n",
       "    fig.cell_info = mpl.find_output_cell(\"<div id='\" + id + \"'></div>\");\n",
       "    if (!fig.cell_info) {\n",
       "        console.error('Failed to find cell for figure', id, fig);\n",
       "        return;\n",
       "    }\n",
       "    fig.cell_info[0].output_area.element.on(\n",
       "        'cleared',\n",
       "        { fig: fig },\n",
       "        fig._remove_fig_handler\n",
       "    );\n",
       "};\n",
       "\n",
       "mpl.figure.prototype.handle_close = function (fig, msg) {\n",
       "    var width = fig.canvas.width / fig.ratio;\n",
       "    fig.cell_info[0].output_area.element.off(\n",
       "        'cleared',\n",
       "        fig._remove_fig_handler\n",
       "    );\n",
       "    fig.resizeObserverInstance.unobserve(fig.canvas_div);\n",
       "\n",
       "    // Update the output cell to use the data from the current canvas.\n",
       "    fig.push_to_output();\n",
       "    var dataURL = fig.canvas.toDataURL();\n",
       "    // Re-enable the keyboard manager in IPython - without this line, in FF,\n",
       "    // the notebook keyboard shortcuts fail.\n",
       "    IPython.keyboard_manager.enable();\n",
       "    fig.parent_element.innerHTML =\n",
       "        '<img src=\"' + dataURL + '\" width=\"' + width + '\">';\n",
       "    fig.close_ws(fig, msg);\n",
       "};\n",
       "\n",
       "mpl.figure.prototype.close_ws = function (fig, msg) {\n",
       "    fig.send_message('closing', msg);\n",
       "    // fig.ws.close()\n",
       "};\n",
       "\n",
       "mpl.figure.prototype.push_to_output = function (_remove_interactive) {\n",
       "    // Turn the data on the canvas into data in the output cell.\n",
       "    var width = this.canvas.width / this.ratio;\n",
       "    var dataURL = this.canvas.toDataURL();\n",
       "    this.cell_info[1]['text/html'] =\n",
       "        '<img src=\"' + dataURL + '\" width=\"' + width + '\">';\n",
       "};\n",
       "\n",
       "mpl.figure.prototype.updated_canvas_event = function () {\n",
       "    // Tell IPython that the notebook contents must change.\n",
       "    IPython.notebook.set_dirty(true);\n",
       "    this.send_message('ack', {});\n",
       "    var fig = this;\n",
       "    // Wait a second, then push the new image to the DOM so\n",
       "    // that it is saved nicely (might be nice to debounce this).\n",
       "    setTimeout(function () {\n",
       "        fig.push_to_output();\n",
       "    }, 1000);\n",
       "};\n",
       "\n",
       "mpl.figure.prototype._init_toolbar = function () {\n",
       "    var fig = this;\n",
       "\n",
       "    var toolbar = document.createElement('div');\n",
       "    toolbar.classList = 'btn-toolbar';\n",
       "    this.root.appendChild(toolbar);\n",
       "\n",
       "    function on_click_closure(name) {\n",
       "        return function (_event) {\n",
       "            return fig.toolbar_button_onclick(name);\n",
       "        };\n",
       "    }\n",
       "\n",
       "    function on_mouseover_closure(tooltip) {\n",
       "        return function (event) {\n",
       "            if (!event.currentTarget.disabled) {\n",
       "                return fig.toolbar_button_onmouseover(tooltip);\n",
       "            }\n",
       "        };\n",
       "    }\n",
       "\n",
       "    fig.buttons = {};\n",
       "    var buttonGroup = document.createElement('div');\n",
       "    buttonGroup.classList = 'btn-group';\n",
       "    var button;\n",
       "    for (var toolbar_ind in mpl.toolbar_items) {\n",
       "        var name = mpl.toolbar_items[toolbar_ind][0];\n",
       "        var tooltip = mpl.toolbar_items[toolbar_ind][1];\n",
       "        var image = mpl.toolbar_items[toolbar_ind][2];\n",
       "        var method_name = mpl.toolbar_items[toolbar_ind][3];\n",
       "\n",
       "        if (!name) {\n",
       "            /* Instead of a spacer, we start a new button group. */\n",
       "            if (buttonGroup.hasChildNodes()) {\n",
       "                toolbar.appendChild(buttonGroup);\n",
       "            }\n",
       "            buttonGroup = document.createElement('div');\n",
       "            buttonGroup.classList = 'btn-group';\n",
       "            continue;\n",
       "        }\n",
       "\n",
       "        button = fig.buttons[name] = document.createElement('button');\n",
       "        button.classList = 'btn btn-default';\n",
       "        button.href = '#';\n",
       "        button.title = name;\n",
       "        button.innerHTML = '<i class=\"fa ' + image + ' fa-lg\"></i>';\n",
       "        button.addEventListener('click', on_click_closure(method_name));\n",
       "        button.addEventListener('mouseover', on_mouseover_closure(tooltip));\n",
       "        buttonGroup.appendChild(button);\n",
       "    }\n",
       "\n",
       "    if (buttonGroup.hasChildNodes()) {\n",
       "        toolbar.appendChild(buttonGroup);\n",
       "    }\n",
       "\n",
       "    // Add the status bar.\n",
       "    var status_bar = document.createElement('span');\n",
       "    status_bar.classList = 'mpl-message pull-right';\n",
       "    toolbar.appendChild(status_bar);\n",
       "    this.message = status_bar;\n",
       "\n",
       "    // Add the close button to the window.\n",
       "    var buttongrp = document.createElement('div');\n",
       "    buttongrp.classList = 'btn-group inline pull-right';\n",
       "    button = document.createElement('button');\n",
       "    button.classList = 'btn btn-mini btn-primary';\n",
       "    button.href = '#';\n",
       "    button.title = 'Stop Interaction';\n",
       "    button.innerHTML = '<i class=\"fa fa-power-off icon-remove icon-large\"></i>';\n",
       "    button.addEventListener('click', function (_evt) {\n",
       "        fig.handle_close(fig, {});\n",
       "    });\n",
       "    button.addEventListener(\n",
       "        'mouseover',\n",
       "        on_mouseover_closure('Stop Interaction')\n",
       "    );\n",
       "    buttongrp.appendChild(button);\n",
       "    var titlebar = this.root.querySelector('.ui-dialog-titlebar');\n",
       "    titlebar.insertBefore(buttongrp, titlebar.firstChild);\n",
       "};\n",
       "\n",
       "mpl.figure.prototype._remove_fig_handler = function (event) {\n",
       "    var fig = event.data.fig;\n",
       "    if (event.target !== this) {\n",
       "        // Ignore bubbled events from children.\n",
       "        return;\n",
       "    }\n",
       "    fig.close_ws(fig, {});\n",
       "};\n",
       "\n",
       "mpl.figure.prototype._root_extra_style = function (el) {\n",
       "    el.style.boxSizing = 'content-box'; // override notebook setting of border-box.\n",
       "};\n",
       "\n",
       "mpl.figure.prototype._canvas_extra_style = function (el) {\n",
       "    // this is important to make the div 'focusable\n",
       "    el.setAttribute('tabindex', 0);\n",
       "    // reach out to IPython and tell the keyboard manager to turn it's self\n",
       "    // off when our div gets focus\n",
       "\n",
       "    // location in version 3\n",
       "    if (IPython.notebook.keyboard_manager) {\n",
       "        IPython.notebook.keyboard_manager.register_events(el);\n",
       "    } else {\n",
       "        // location in version 2\n",
       "        IPython.keyboard_manager.register_events(el);\n",
       "    }\n",
       "};\n",
       "\n",
       "mpl.figure.prototype._key_event_extra = function (event, _name) {\n",
       "    var manager = IPython.notebook.keyboard_manager;\n",
       "    if (!manager) {\n",
       "        manager = IPython.keyboard_manager;\n",
       "    }\n",
       "\n",
       "    // Check for shift+enter\n",
       "    if (event.shiftKey && event.which === 13) {\n",
       "        this.canvas_div.blur();\n",
       "        // select the cell after this one\n",
       "        var index = IPython.notebook.find_cell_index(this.cell_info[0]);\n",
       "        IPython.notebook.select(index + 1);\n",
       "    }\n",
       "};\n",
       "\n",
       "mpl.figure.prototype.handle_save = function (fig, _msg) {\n",
       "    fig.ondownload(fig, null);\n",
       "};\n",
       "\n",
       "mpl.find_output_cell = function (html_output) {\n",
       "    // Return the cell and output element which can be found *uniquely* in the notebook.\n",
       "    // Note - this is a bit hacky, but it is done because the \"notebook_saving.Notebook\"\n",
       "    // IPython event is triggered only after the cells have been serialised, which for\n",
       "    // our purposes (turning an active figure into a static one), is too late.\n",
       "    var cells = IPython.notebook.get_cells();\n",
       "    var ncells = cells.length;\n",
       "    for (var i = 0; i < ncells; i++) {\n",
       "        var cell = cells[i];\n",
       "        if (cell.cell_type === 'code') {\n",
       "            for (var j = 0; j < cell.output_area.outputs.length; j++) {\n",
       "                var data = cell.output_area.outputs[j];\n",
       "                if (data.data) {\n",
       "                    // IPython >= 3 moved mimebundle to data attribute of output\n",
       "                    data = data.data;\n",
       "                }\n",
       "                if (data['text/html'] === html_output) {\n",
       "                    return [cell, data, j];\n",
       "                }\n",
       "            }\n",
       "        }\n",
       "    }\n",
       "};\n",
       "\n",
       "// Register the function which deals with the matplotlib target/channel.\n",
       "// The kernel may be null if the page has been refreshed.\n",
       "if (IPython.notebook.kernel !== null) {\n",
       "    IPython.notebook.kernel.comm_manager.register_target(\n",
       "        'matplotlib',\n",
       "        mpl.mpl_figure_comm\n",
       "    );\n",
       "}\n"
      ],
      "text/plain": [
       "<IPython.core.display.Javascript object>"
      ]
     },
     "metadata": {},
     "output_type": "display_data"
    },
    {
     "data": {
      "text/html": [
       "<img src=\"data:image/png;base64,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\" width=\"800\">"
      ],
      "text/plain": [
       "<IPython.core.display.HTML object>"
      ]
     },
     "metadata": {},
     "output_type": "display_data"
    }
   ],
   "source": [
    "from mpl_toolkits.mplot3d import axes3d\n",
    "import matplotlib.pyplot as plt\n",
    "\n",
    "%matplotlib notebook\n",
    "\n",
    "\n",
    "\n",
    "def f(TV, Radio):\n",
    "    return((0.659537 * TV) + (0.229966 * Radio) + 0.085545)\n",
    "\n",
    "n = len(X2_test)\n",
    "TV = np.linspace(X2_test.TV.min(), X2_test.TV.max(), n)\n",
    "Radio = np.linspace(X2_test.Radio.min(), X2_test.Radio.max(), n)\n",
    "\n",
    "X1, X2 = np.meshgrid(TV, Radio)\n",
    "Z = f(X1, X2)\n",
    "\n",
    "fig = plt.figure(figsize = (8, 6))\n",
    "\n",
    "ax = plt.axes(projection='3d')\n",
    "ax.scatter3D(X2_test['TV'], X2_test['Radio'], y2_test, color = 'red', s = 30)\n",
    "ax.plot_surface(X1, X2, Z, rstride=1, cstride=1, cmap='Purples', edgecolor='none')\n",
    "ax.set_xlabel('TV')\n",
    "ax.set_ylabel('Radio')\n",
    "ax.set_zlabel('Sales')\n",
    "ax.set_title('Actual Vs Predicted')\n",
    "\n",
    "for angle in range(0, 360):\n",
    "    ax.view_init(30, angle)\n",
    "    plt.draw()\n",
    "    plt.pause(.001)\n",
    "\n",
    "plt.show()"
   ]
  },
  {
   "cell_type": "code",
   "execution_count": null,
   "id": "9c58905b",
   "metadata": {},
   "outputs": [],
   "source": []
  }
 ],
 "metadata": {
  "kernelspec": {
   "display_name": "Python 3 (ipykernel)",
   "language": "python",
   "name": "python3"
  },
  "language_info": {
   "codemirror_mode": {
    "name": "ipython",
    "version": 3
   },
   "file_extension": ".py",
   "mimetype": "text/x-python",
   "name": "python",
   "nbconvert_exporter": "python",
   "pygments_lexer": "ipython3",
   "version": "3.9.7"
  }
 },
 "nbformat": 4,
 "nbformat_minor": 5
}
